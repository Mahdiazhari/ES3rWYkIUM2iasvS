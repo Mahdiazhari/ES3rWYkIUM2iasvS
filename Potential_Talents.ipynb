{
  "nbformat": 4,
  "nbformat_minor": 0,
  "metadata": {
    "colab": {
      "provenance": [],
      "collapsed_sections": []
    },
    "kernelspec": {
      "name": "python3",
      "display_name": "Python 3"
    },
    "language_info": {
      "name": "python"
    }
  },
  "cells": [
    {
      "cell_type": "code",
      "execution_count": 1,
      "metadata": {
        "id": "bawZyUCs1Bob"
      },
      "outputs": [],
      "source": [
        "current_dir = '/content/drive/MyDrive/Apziva/Potential Talents/'"
      ]
    },
    {
      "cell_type": "code",
      "source": [
        "data_dir = current_dir + 'dataset.csv'"
      ],
      "metadata": {
        "id": "K0zDdJOsU0Sw"
      },
      "execution_count": 2,
      "outputs": []
    },
    {
      "cell_type": "code",
      "source": [
        "\n",
        "import pandas as pd\n",
        "import numpy as np\n",
        "\n",
        "import matplotlib.pyplot as plt\n",
        "import seaborn as sns\n",
        "\n",
        "\n",
        "import nltk\n",
        "import re\n",
        "import string\n",
        "\n",
        "from nltk.stem import WordNetLemmatizer\n",
        "from nltk.tokenize import RegexpTokenizer\n",
        "from nltk.corpus import stopwords\n",
        "\n",
        "\n",
        "from collections import Counter\n",
        "\n",
        "#similarity measure - cosine similarity\n",
        "from scipy.spatial.distance import cosine\n",
        "from sklearn.metrics.pairwise import cosine_similarity"
      ],
      "metadata": {
        "id": "bSUh4UtnVHNt"
      },
      "execution_count": 51,
      "outputs": []
    },
    {
      "cell_type": "code",
      "source": [
        "nltk.download('stopwords')\n",
        "nltk.download('wordnet')\n",
        "nltk.download('omw-1.4')"
      ],
      "metadata": {
        "colab": {
          "base_uri": "https://localhost:8080/"
        },
        "id": "t5R9PKnRvBTe",
        "outputId": "25fc7bc0-c11c-41ed-fdad-220ecbe36d40"
      },
      "execution_count": 4,
      "outputs": [
        {
          "output_type": "stream",
          "name": "stderr",
          "text": [
            "[nltk_data] Downloading package stopwords to /root/nltk_data...\n",
            "[nltk_data]   Unzipping corpora/stopwords.zip.\n",
            "[nltk_data] Downloading package wordnet to /root/nltk_data...\n",
            "[nltk_data] Downloading package omw-1.4 to /root/nltk_data...\n"
          ]
        },
        {
          "output_type": "execute_result",
          "data": {
            "text/plain": [
              "True"
            ]
          },
          "metadata": {},
          "execution_count": 4
        }
      ]
    },
    {
      "cell_type": "code",
      "source": [
        "df = pd.read_csv(data_dir).set_index('id')\n",
        "print(df.shape)\n",
        "df.head()"
      ],
      "metadata": {
        "colab": {
          "base_uri": "https://localhost:8080/",
          "height": 255
        },
        "id": "BZ7M-tY4WYub",
        "outputId": "98b8617e-1389-49f7-eb08-bb804a57e479"
      },
      "execution_count": 5,
      "outputs": [
        {
          "output_type": "stream",
          "name": "stdout",
          "text": [
            "(104, 4)\n"
          ]
        },
        {
          "output_type": "execute_result",
          "data": {
            "text/plain": [
              "                                            job_title  \\\n",
              "id                                                      \n",
              "1   2019 C.T. Bauer College of Business Graduate (...   \n",
              "2   Native English Teacher at EPIK (English Progra...   \n",
              "3               Aspiring Human Resources Professional   \n",
              "4              People Development Coordinator at Ryan   \n",
              "5     Advisory Board Member at Celal Bayar University   \n",
              "\n",
              "                               location connection  fit  \n",
              "id                                                       \n",
              "1                        Houston, Texas         85  NaN  \n",
              "2                                Kanada      500+   NaN  \n",
              "3   Raleigh-Durham, North Carolina Area         44  NaN  \n",
              "4                         Denton, Texas      500+   NaN  \n",
              "5                        İzmir, Türkiye      500+   NaN  "
            ],
            "text/html": [
              "\n",
              "  <div id=\"df-29cb179e-a078-4d81-a433-eb19d2a180f2\">\n",
              "    <div class=\"colab-df-container\">\n",
              "      <div>\n",
              "<style scoped>\n",
              "    .dataframe tbody tr th:only-of-type {\n",
              "        vertical-align: middle;\n",
              "    }\n",
              "\n",
              "    .dataframe tbody tr th {\n",
              "        vertical-align: top;\n",
              "    }\n",
              "\n",
              "    .dataframe thead th {\n",
              "        text-align: right;\n",
              "    }\n",
              "</style>\n",
              "<table border=\"1\" class=\"dataframe\">\n",
              "  <thead>\n",
              "    <tr style=\"text-align: right;\">\n",
              "      <th></th>\n",
              "      <th>job_title</th>\n",
              "      <th>location</th>\n",
              "      <th>connection</th>\n",
              "      <th>fit</th>\n",
              "    </tr>\n",
              "    <tr>\n",
              "      <th>id</th>\n",
              "      <th></th>\n",
              "      <th></th>\n",
              "      <th></th>\n",
              "      <th></th>\n",
              "    </tr>\n",
              "  </thead>\n",
              "  <tbody>\n",
              "    <tr>\n",
              "      <th>1</th>\n",
              "      <td>2019 C.T. Bauer College of Business Graduate (...</td>\n",
              "      <td>Houston, Texas</td>\n",
              "      <td>85</td>\n",
              "      <td>NaN</td>\n",
              "    </tr>\n",
              "    <tr>\n",
              "      <th>2</th>\n",
              "      <td>Native English Teacher at EPIK (English Progra...</td>\n",
              "      <td>Kanada</td>\n",
              "      <td>500+</td>\n",
              "      <td>NaN</td>\n",
              "    </tr>\n",
              "    <tr>\n",
              "      <th>3</th>\n",
              "      <td>Aspiring Human Resources Professional</td>\n",
              "      <td>Raleigh-Durham, North Carolina Area</td>\n",
              "      <td>44</td>\n",
              "      <td>NaN</td>\n",
              "    </tr>\n",
              "    <tr>\n",
              "      <th>4</th>\n",
              "      <td>People Development Coordinator at Ryan</td>\n",
              "      <td>Denton, Texas</td>\n",
              "      <td>500+</td>\n",
              "      <td>NaN</td>\n",
              "    </tr>\n",
              "    <tr>\n",
              "      <th>5</th>\n",
              "      <td>Advisory Board Member at Celal Bayar University</td>\n",
              "      <td>İzmir, Türkiye</td>\n",
              "      <td>500+</td>\n",
              "      <td>NaN</td>\n",
              "    </tr>\n",
              "  </tbody>\n",
              "</table>\n",
              "</div>\n",
              "      <button class=\"colab-df-convert\" onclick=\"convertToInteractive('df-29cb179e-a078-4d81-a433-eb19d2a180f2')\"\n",
              "              title=\"Convert this dataframe to an interactive table.\"\n",
              "              style=\"display:none;\">\n",
              "        \n",
              "  <svg xmlns=\"http://www.w3.org/2000/svg\" height=\"24px\"viewBox=\"0 0 24 24\"\n",
              "       width=\"24px\">\n",
              "    <path d=\"M0 0h24v24H0V0z\" fill=\"none\"/>\n",
              "    <path d=\"M18.56 5.44l.94 2.06.94-2.06 2.06-.94-2.06-.94-.94-2.06-.94 2.06-2.06.94zm-11 1L8.5 8.5l.94-2.06 2.06-.94-2.06-.94L8.5 2.5l-.94 2.06-2.06.94zm10 10l.94 2.06.94-2.06 2.06-.94-2.06-.94-.94-2.06-.94 2.06-2.06.94z\"/><path d=\"M17.41 7.96l-1.37-1.37c-.4-.4-.92-.59-1.43-.59-.52 0-1.04.2-1.43.59L10.3 9.45l-7.72 7.72c-.78.78-.78 2.05 0 2.83L4 21.41c.39.39.9.59 1.41.59.51 0 1.02-.2 1.41-.59l7.78-7.78 2.81-2.81c.8-.78.8-2.07 0-2.86zM5.41 20L4 18.59l7.72-7.72 1.47 1.35L5.41 20z\"/>\n",
              "  </svg>\n",
              "      </button>\n",
              "      \n",
              "  <style>\n",
              "    .colab-df-container {\n",
              "      display:flex;\n",
              "      flex-wrap:wrap;\n",
              "      gap: 12px;\n",
              "    }\n",
              "\n",
              "    .colab-df-convert {\n",
              "      background-color: #E8F0FE;\n",
              "      border: none;\n",
              "      border-radius: 50%;\n",
              "      cursor: pointer;\n",
              "      display: none;\n",
              "      fill: #1967D2;\n",
              "      height: 32px;\n",
              "      padding: 0 0 0 0;\n",
              "      width: 32px;\n",
              "    }\n",
              "\n",
              "    .colab-df-convert:hover {\n",
              "      background-color: #E2EBFA;\n",
              "      box-shadow: 0px 1px 2px rgba(60, 64, 67, 0.3), 0px 1px 3px 1px rgba(60, 64, 67, 0.15);\n",
              "      fill: #174EA6;\n",
              "    }\n",
              "\n",
              "    [theme=dark] .colab-df-convert {\n",
              "      background-color: #3B4455;\n",
              "      fill: #D2E3FC;\n",
              "    }\n",
              "\n",
              "    [theme=dark] .colab-df-convert:hover {\n",
              "      background-color: #434B5C;\n",
              "      box-shadow: 0px 1px 3px 1px rgba(0, 0, 0, 0.15);\n",
              "      filter: drop-shadow(0px 1px 2px rgba(0, 0, 0, 0.3));\n",
              "      fill: #FFFFFF;\n",
              "    }\n",
              "  </style>\n",
              "\n",
              "      <script>\n",
              "        const buttonEl =\n",
              "          document.querySelector('#df-29cb179e-a078-4d81-a433-eb19d2a180f2 button.colab-df-convert');\n",
              "        buttonEl.style.display =\n",
              "          google.colab.kernel.accessAllowed ? 'block' : 'none';\n",
              "\n",
              "        async function convertToInteractive(key) {\n",
              "          const element = document.querySelector('#df-29cb179e-a078-4d81-a433-eb19d2a180f2');\n",
              "          const dataTable =\n",
              "            await google.colab.kernel.invokeFunction('convertToInteractive',\n",
              "                                                     [key], {});\n",
              "          if (!dataTable) return;\n",
              "\n",
              "          const docLinkHtml = 'Like what you see? Visit the ' +\n",
              "            '<a target=\"_blank\" href=https://colab.research.google.com/notebooks/data_table.ipynb>data table notebook</a>'\n",
              "            + ' to learn more about interactive tables.';\n",
              "          element.innerHTML = '';\n",
              "          dataTable['output_type'] = 'display_data';\n",
              "          await google.colab.output.renderOutput(dataTable, element);\n",
              "          const docLink = document.createElement('div');\n",
              "          docLink.innerHTML = docLinkHtml;\n",
              "          element.appendChild(docLink);\n",
              "        }\n",
              "      </script>\n",
              "    </div>\n",
              "  </div>\n",
              "  "
            ]
          },
          "metadata": {},
          "execution_count": 5
        }
      ]
    },
    {
      "cell_type": "code",
      "source": [
        "df.dtypes"
      ],
      "metadata": {
        "colab": {
          "base_uri": "https://localhost:8080/"
        },
        "id": "NgVRBDB1XkDS",
        "outputId": "fe148a9e-d263-4cf2-d04e-6b8c5a81aaa7"
      },
      "execution_count": 6,
      "outputs": [
        {
          "output_type": "execute_result",
          "data": {
            "text/plain": [
              "job_title      object\n",
              "location       object\n",
              "connection     object\n",
              "fit           float64\n",
              "dtype: object"
            ]
          },
          "metadata": {},
          "execution_count": 6
        }
      ]
    },
    {
      "cell_type": "code",
      "source": [],
      "metadata": {
        "id": "76nNHpyWhhP7"
      },
      "execution_count": 6,
      "outputs": []
    },
    {
      "cell_type": "code",
      "source": [
        "df['fit'].unique()"
      ],
      "metadata": {
        "colab": {
          "base_uri": "https://localhost:8080/"
        },
        "id": "Z9sYAb46Wa0L",
        "outputId": "9a1885fe-9bcd-476b-96b4-919713801970"
      },
      "execution_count": 7,
      "outputs": [
        {
          "output_type": "execute_result",
          "data": {
            "text/plain": [
              "array([nan])"
            ]
          },
          "metadata": {},
          "execution_count": 7
        }
      ]
    },
    {
      "cell_type": "code",
      "source": [
        "#drop the fit column because it containns no information\n",
        "df.drop('fit',axis=1,inplace=True)"
      ],
      "metadata": {
        "id": "JnHRZH9FhUoQ"
      },
      "execution_count": 8,
      "outputs": []
    },
    {
      "cell_type": "code",
      "source": [
        "df.connection.unique()"
      ],
      "metadata": {
        "colab": {
          "base_uri": "https://localhost:8080/"
        },
        "id": "1Jh07L2eWfuT",
        "outputId": "25302ba3-d98e-4208-c7c5-bac2fcaca4a1"
      },
      "execution_count": 9,
      "outputs": [
        {
          "output_type": "execute_result",
          "data": {
            "text/plain": [
              "array(['85', '500+ ', '44', '1', '61', '2', '390', '57', '82', '5', '7',\n",
              "       '16', '212', '409', '52', '455', '174', '268', '50', '4', '40',\n",
              "       '18', '349', '155', '39', '64', '9', '415', '19', '71', '48',\n",
              "       '103', '49'], dtype=object)"
            ]
          },
          "metadata": {},
          "execution_count": 9
        }
      ]
    },
    {
      "cell_type": "code",
      "source": [
        "df['connection'] = df['connection'].replace(['500+ '],'501')"
      ],
      "metadata": {
        "id": "NaClTp_5fFhH"
      },
      "execution_count": 10,
      "outputs": []
    },
    {
      "cell_type": "code",
      "source": [
        "df.isna().sum()"
      ],
      "metadata": {
        "colab": {
          "base_uri": "https://localhost:8080/"
        },
        "id": "7pTzf1QsXiDf",
        "outputId": "891c98c0-9d01-4cfc-8775-7029d0035aa9"
      },
      "execution_count": 11,
      "outputs": [
        {
          "output_type": "execute_result",
          "data": {
            "text/plain": [
              "job_title     0\n",
              "location      0\n",
              "connection    0\n",
              "dtype: int64"
            ]
          },
          "metadata": {},
          "execution_count": 11
        }
      ]
    },
    {
      "cell_type": "code",
      "source": [
        "df.isnull().sum()"
      ],
      "metadata": {
        "colab": {
          "base_uri": "https://localhost:8080/"
        },
        "id": "tZzy773SiJCl",
        "outputId": "633704dc-b7b7-4870-eddf-8bb53556cf2e"
      },
      "execution_count": 12,
      "outputs": [
        {
          "output_type": "execute_result",
          "data": {
            "text/plain": [
              "job_title     0\n",
              "location      0\n",
              "connection    0\n",
              "dtype: int64"
            ]
          },
          "metadata": {},
          "execution_count": 12
        }
      ]
    },
    {
      "cell_type": "code",
      "source": [
        "df.describe()"
      ],
      "metadata": {
        "colab": {
          "base_uri": "https://localhost:8080/",
          "height": 175
        },
        "id": "UhFZ4qURb43M",
        "outputId": "d2a1d487-ebb9-4f74-bf2f-a27b2c8fd5f0"
      },
      "execution_count": 13,
      "outputs": [
        {
          "output_type": "execute_result",
          "data": {
            "text/plain": [
              "                                                job_title location connection\n",
              "count                                                 104      104        104\n",
              "unique                                                 52       41         33\n",
              "top     2019 C.T. Bauer College of Business Graduate (...   Kanada        501\n",
              "freq                                                    7       12         44"
            ],
            "text/html": [
              "\n",
              "  <div id=\"df-41bf1d58-c8cf-45b3-beea-c5a641db6a5e\">\n",
              "    <div class=\"colab-df-container\">\n",
              "      <div>\n",
              "<style scoped>\n",
              "    .dataframe tbody tr th:only-of-type {\n",
              "        vertical-align: middle;\n",
              "    }\n",
              "\n",
              "    .dataframe tbody tr th {\n",
              "        vertical-align: top;\n",
              "    }\n",
              "\n",
              "    .dataframe thead th {\n",
              "        text-align: right;\n",
              "    }\n",
              "</style>\n",
              "<table border=\"1\" class=\"dataframe\">\n",
              "  <thead>\n",
              "    <tr style=\"text-align: right;\">\n",
              "      <th></th>\n",
              "      <th>job_title</th>\n",
              "      <th>location</th>\n",
              "      <th>connection</th>\n",
              "    </tr>\n",
              "  </thead>\n",
              "  <tbody>\n",
              "    <tr>\n",
              "      <th>count</th>\n",
              "      <td>104</td>\n",
              "      <td>104</td>\n",
              "      <td>104</td>\n",
              "    </tr>\n",
              "    <tr>\n",
              "      <th>unique</th>\n",
              "      <td>52</td>\n",
              "      <td>41</td>\n",
              "      <td>33</td>\n",
              "    </tr>\n",
              "    <tr>\n",
              "      <th>top</th>\n",
              "      <td>2019 C.T. Bauer College of Business Graduate (...</td>\n",
              "      <td>Kanada</td>\n",
              "      <td>501</td>\n",
              "    </tr>\n",
              "    <tr>\n",
              "      <th>freq</th>\n",
              "      <td>7</td>\n",
              "      <td>12</td>\n",
              "      <td>44</td>\n",
              "    </tr>\n",
              "  </tbody>\n",
              "</table>\n",
              "</div>\n",
              "      <button class=\"colab-df-convert\" onclick=\"convertToInteractive('df-41bf1d58-c8cf-45b3-beea-c5a641db6a5e')\"\n",
              "              title=\"Convert this dataframe to an interactive table.\"\n",
              "              style=\"display:none;\">\n",
              "        \n",
              "  <svg xmlns=\"http://www.w3.org/2000/svg\" height=\"24px\"viewBox=\"0 0 24 24\"\n",
              "       width=\"24px\">\n",
              "    <path d=\"M0 0h24v24H0V0z\" fill=\"none\"/>\n",
              "    <path d=\"M18.56 5.44l.94 2.06.94-2.06 2.06-.94-2.06-.94-.94-2.06-.94 2.06-2.06.94zm-11 1L8.5 8.5l.94-2.06 2.06-.94-2.06-.94L8.5 2.5l-.94 2.06-2.06.94zm10 10l.94 2.06.94-2.06 2.06-.94-2.06-.94-.94-2.06-.94 2.06-2.06.94z\"/><path d=\"M17.41 7.96l-1.37-1.37c-.4-.4-.92-.59-1.43-.59-.52 0-1.04.2-1.43.59L10.3 9.45l-7.72 7.72c-.78.78-.78 2.05 0 2.83L4 21.41c.39.39.9.59 1.41.59.51 0 1.02-.2 1.41-.59l7.78-7.78 2.81-2.81c.8-.78.8-2.07 0-2.86zM5.41 20L4 18.59l7.72-7.72 1.47 1.35L5.41 20z\"/>\n",
              "  </svg>\n",
              "      </button>\n",
              "      \n",
              "  <style>\n",
              "    .colab-df-container {\n",
              "      display:flex;\n",
              "      flex-wrap:wrap;\n",
              "      gap: 12px;\n",
              "    }\n",
              "\n",
              "    .colab-df-convert {\n",
              "      background-color: #E8F0FE;\n",
              "      border: none;\n",
              "      border-radius: 50%;\n",
              "      cursor: pointer;\n",
              "      display: none;\n",
              "      fill: #1967D2;\n",
              "      height: 32px;\n",
              "      padding: 0 0 0 0;\n",
              "      width: 32px;\n",
              "    }\n",
              "\n",
              "    .colab-df-convert:hover {\n",
              "      background-color: #E2EBFA;\n",
              "      box-shadow: 0px 1px 2px rgba(60, 64, 67, 0.3), 0px 1px 3px 1px rgba(60, 64, 67, 0.15);\n",
              "      fill: #174EA6;\n",
              "    }\n",
              "\n",
              "    [theme=dark] .colab-df-convert {\n",
              "      background-color: #3B4455;\n",
              "      fill: #D2E3FC;\n",
              "    }\n",
              "\n",
              "    [theme=dark] .colab-df-convert:hover {\n",
              "      background-color: #434B5C;\n",
              "      box-shadow: 0px 1px 3px 1px rgba(0, 0, 0, 0.15);\n",
              "      filter: drop-shadow(0px 1px 2px rgba(0, 0, 0, 0.3));\n",
              "      fill: #FFFFFF;\n",
              "    }\n",
              "  </style>\n",
              "\n",
              "      <script>\n",
              "        const buttonEl =\n",
              "          document.querySelector('#df-41bf1d58-c8cf-45b3-beea-c5a641db6a5e button.colab-df-convert');\n",
              "        buttonEl.style.display =\n",
              "          google.colab.kernel.accessAllowed ? 'block' : 'none';\n",
              "\n",
              "        async function convertToInteractive(key) {\n",
              "          const element = document.querySelector('#df-41bf1d58-c8cf-45b3-beea-c5a641db6a5e');\n",
              "          const dataTable =\n",
              "            await google.colab.kernel.invokeFunction('convertToInteractive',\n",
              "                                                     [key], {});\n",
              "          if (!dataTable) return;\n",
              "\n",
              "          const docLinkHtml = 'Like what you see? Visit the ' +\n",
              "            '<a target=\"_blank\" href=https://colab.research.google.com/notebooks/data_table.ipynb>data table notebook</a>'\n",
              "            + ' to learn more about interactive tables.';\n",
              "          element.innerHTML = '';\n",
              "          dataTable['output_type'] = 'display_data';\n",
              "          await google.colab.output.renderOutput(dataTable, element);\n",
              "          const docLink = document.createElement('div');\n",
              "          docLink.innerHTML = docLinkHtml;\n",
              "          element.appendChild(docLink);\n",
              "        }\n",
              "      </script>\n",
              "    </div>\n",
              "  </div>\n",
              "  "
            ]
          },
          "metadata": {},
          "execution_count": 13
        }
      ]
    },
    {
      "cell_type": "code",
      "source": [
        "df.location.value_counts()"
      ],
      "metadata": {
        "colab": {
          "base_uri": "https://localhost:8080/"
        },
        "id": "mp4X7aH-b8Mf",
        "outputId": "2a069352-2b2f-4b05-a704-ff455673125f"
      },
      "execution_count": 14,
      "outputs": [
        {
          "output_type": "execute_result",
          "data": {
            "text/plain": [
              "Kanada                                 12\n",
              "Raleigh-Durham, North Carolina Area     8\n",
              "Houston, Texas Area                     8\n",
              "Greater New York City Area              7\n",
              "Houston, Texas                          7\n",
              "Denton, Texas                           6\n",
              "San Francisco Bay Area                  5\n",
              "Greater Philadelphia Area               5\n",
              "İzmir, Türkiye                          4\n",
              "Lake Forest, California                 4\n",
              "Atlanta, Georgia                        4\n",
              "Chicago, Illinois                       2\n",
              "Austin, Texas Area                      2\n",
              "Greater Atlanta Area                    2\n",
              "Amerika Birleşik Devletleri             2\n",
              "Long Beach, California                  1\n",
              "Milpitas, California                    1\n",
              "Greater Chicago Area                    1\n",
              "Torrance, California                    1\n",
              "Greater Los Angeles Area                1\n",
              "Bridgewater, Massachusetts              1\n",
              "Lafayette, Indiana                      1\n",
              "Kokomo, Indiana Area                    1\n",
              "Las Vegas, Nevada Area                  1\n",
              "Cape Girardeau, Missouri                1\n",
              "Gaithersburg, Maryland                  1\n",
              "Baltimore, Maryland                     1\n",
              "Dallas/Fort Worth Area                  1\n",
              "Highland, California                    1\n",
              "Los Angeles, California                 1\n",
              "Chattanooga, Tennessee Area             1\n",
              "Myrtle Beach, South Carolina Area       1\n",
              "Baton Rouge, Louisiana Area             1\n",
              "New York, New York                      1\n",
              "San Jose, California                    1\n",
              "Greater Boston Area                     1\n",
              "Monroe, Louisiana Area                  1\n",
              "Virginia Beach, Virginia                1\n",
              "Greater Grand Rapids, Michigan Area     1\n",
              "Jackson, Mississippi Area               1\n",
              "Katy, Texas                             1\n",
              "Name: location, dtype: int64"
            ]
          },
          "metadata": {},
          "execution_count": 14
        }
      ]
    },
    {
      "cell_type": "code",
      "source": [
        "plt.figure(figsize = [15,10])\n",
        "sns.histplot(df.connection.apply(int), bins = 10)\n",
        "plt.xlabel(\"Connections\")\n",
        "plt.title(\"Histogram for Number of Connections\")\n",
        "plt.show()"
      ],
      "metadata": {
        "colab": {
          "base_uri": "https://localhost:8080/",
          "height": 621
        },
        "id": "Z8wpc55BcCxV",
        "outputId": "a71bf1da-4957-4b9f-aab5-07b99cc61bad"
      },
      "execution_count": 15,
      "outputs": [
        {
          "output_type": "display_data",
          "data": {
            "text/plain": [
              "<Figure size 1080x720 with 1 Axes>"
            ],
            "image/png": "[encoded data removed]"
          },
          "metadata": {
            "needs_background": "light"
          }
        }
      ]
    },
    {
      "cell_type": "code",
      "source": [
        "df.duplicated()"
      ],
      "metadata": {
        "colab": {
          "base_uri": "https://localhost:8080/"
        },
        "id": "IyyhPahbcMCj",
        "outputId": "efbbd429-8854-43a7-a8e7-3813294f1bab"
      },
      "execution_count": 16,
      "outputs": [
        {
          "output_type": "execute_result",
          "data": {
            "text/plain": [
              "id\n",
              "1      False\n",
              "2      False\n",
              "3      False\n",
              "4      False\n",
              "5      False\n",
              "       ...  \n",
              "100    False\n",
              "101    False\n",
              "102    False\n",
              "103    False\n",
              "104    False\n",
              "Length: 104, dtype: bool"
            ]
          },
          "metadata": {},
          "execution_count": 16
        }
      ]
    },
    {
      "cell_type": "code",
      "source": [
        "df.duplicated().unique()"
      ],
      "metadata": {
        "colab": {
          "base_uri": "https://localhost:8080/"
        },
        "id": "Xzt1Zl6adJJd",
        "outputId": "63af9424-3c20-4c9a-9fd9-31d58a46da26"
      },
      "execution_count": 17,
      "outputs": [
        {
          "output_type": "execute_result",
          "data": {
            "text/plain": [
              "array([False,  True])"
            ]
          },
          "metadata": {},
          "execution_count": 17
        }
      ]
    },
    {
      "cell_type": "code",
      "source": [
        "#Find Duplicate Rows\n",
        "duplicate = df[df.duplicated()]\n",
        " \n",
        "print(\"Duplicate Rows :\")\n",
        " \n",
        "duplicate"
      ],
      "metadata": {
        "colab": {
          "base_uri": "https://localhost:8080/",
          "height": 1000
        },
        "id": "g2ifudDhdK74",
        "outputId": "0a6672a7-98ba-4c9b-cb7b-fd3c26bbaf7a"
      },
      "execution_count": 18,
      "outputs": [
        {
          "output_type": "stream",
          "name": "stdout",
          "text": [
            "Duplicate Rows :\n"
          ]
        },
        {
          "output_type": "execute_result",
          "data": {
            "text/plain": [
              "                                            job_title  \\\n",
              "id                                                      \n",
              "9   Student at Humber College and Aspiring Human R...   \n",
              "14  2019 C.T. Bauer College of Business Graduate (...   \n",
              "15  2019 C.T. Bauer College of Business Graduate (...   \n",
              "16  Native English Teacher at EPIK (English Progra...   \n",
              "17              Aspiring Human Resources Professional   \n",
              "18             People Development Coordinator at Ryan   \n",
              "19  2019 C.T. Bauer College of Business Graduate (...   \n",
              "20  Native English Teacher at EPIK (English Progra...   \n",
              "21              Aspiring Human Resources Professional   \n",
              "22             People Development Coordinator at Ryan   \n",
              "23    Advisory Board Member at Celal Bayar University   \n",
              "24                Aspiring Human Resources Specialist   \n",
              "25  Student at Humber College and Aspiring Human R...   \n",
              "26                               HR Senior Specialist   \n",
              "29  Aspiring Human Resources Management student se...   \n",
              "30              Seeking Human Resources Opportunities   \n",
              "31  2019 C.T. Bauer College of Business Graduate (...   \n",
              "32  Native English Teacher at EPIK (English Progra...   \n",
              "33              Aspiring Human Resources Professional   \n",
              "34             People Development Coordinator at Ryan   \n",
              "35    Advisory Board Member at Celal Bayar University   \n",
              "36                Aspiring Human Resources Specialist   \n",
              "37  Student at Humber College and Aspiring Human R...   \n",
              "38                               HR Senior Specialist   \n",
              "39  Student at Humber College and Aspiring Human R...   \n",
              "40  Seeking Human Resources HRIS and Generalist Po...   \n",
              "41                      Student at Chapman University   \n",
              "42  SVP, CHRO, Marketing & Communications, CSR Off...   \n",
              "43  Human Resources Coordinator at InterContinenta...   \n",
              "44  2019 C.T. Bauer College of Business Graduate (...   \n",
              "45  Native English Teacher at EPIK (English Progra...   \n",
              "46              Aspiring Human Resources Professional   \n",
              "47             People Development Coordinator at Ryan   \n",
              "48    Advisory Board Member at Celal Bayar University   \n",
              "49                Aspiring Human Resources Specialist   \n",
              "50  Student at Humber College and Aspiring Human R...   \n",
              "51                               HR Senior Specialist   \n",
              "52  Student at Humber College and Aspiring Human R...   \n",
              "53  Seeking Human Resources HRIS and Generalist Po...   \n",
              "54                      Student at Chapman University   \n",
              "55  SVP, CHRO, Marketing & Communications, CSR Off...   \n",
              "56  Human Resources Coordinator at InterContinenta...   \n",
              "57  2019 C.T. Bauer College of Business Graduate (...   \n",
              "58              Aspiring Human Resources Professional   \n",
              "59             People Development Coordinator at Ryan   \n",
              "60                Aspiring Human Resources Specialist   \n",
              "61                               HR Senior Specialist   \n",
              "62  Seeking Human Resources HRIS and Generalist Po...   \n",
              "63                      Student at Chapman University   \n",
              "64  SVP, CHRO, Marketing & Communications, CSR Off...   \n",
              "65  Human Resources Coordinator at InterContinenta...   \n",
              "\n",
              "                               location connection  \n",
              "id                                                  \n",
              "9                                Kanada         61  \n",
              "14                       Houston, Texas         85  \n",
              "15                       Houston, Texas         85  \n",
              "16                               Kanada        501  \n",
              "17  Raleigh-Durham, North Carolina Area         44  \n",
              "18                        Denton, Texas        501  \n",
              "19                       Houston, Texas         85  \n",
              "20                               Kanada        501  \n",
              "21  Raleigh-Durham, North Carolina Area         44  \n",
              "22                        Denton, Texas        501  \n",
              "23                       İzmir, Türkiye        501  \n",
              "24           Greater New York City Area          1  \n",
              "25                               Kanada         61  \n",
              "26               San Francisco Bay Area        501  \n",
              "29                  Houston, Texas Area        501  \n",
              "30                    Chicago, Illinois        390  \n",
              "31                       Houston, Texas         85  \n",
              "32                               Kanada        501  \n",
              "33  Raleigh-Durham, North Carolina Area         44  \n",
              "34                        Denton, Texas        501  \n",
              "35                       İzmir, Türkiye        501  \n",
              "36           Greater New York City Area          1  \n",
              "37                               Kanada         61  \n",
              "38               San Francisco Bay Area        501  \n",
              "39                               Kanada         61  \n",
              "40            Greater Philadelphia Area        501  \n",
              "41              Lake Forest, California          2  \n",
              "42                  Houston, Texas Area        501  \n",
              "43                     Atlanta, Georgia        501  \n",
              "44                       Houston, Texas         85  \n",
              "45                               Kanada        501  \n",
              "46  Raleigh-Durham, North Carolina Area         44  \n",
              "47                        Denton, Texas        501  \n",
              "48                       İzmir, Türkiye        501  \n",
              "49           Greater New York City Area          1  \n",
              "50                               Kanada         61  \n",
              "51               San Francisco Bay Area        501  \n",
              "52                               Kanada         61  \n",
              "53            Greater Philadelphia Area        501  \n",
              "54              Lake Forest, California          2  \n",
              "55                  Houston, Texas Area        501  \n",
              "56                     Atlanta, Georgia        501  \n",
              "57                       Houston, Texas         85  \n",
              "58  Raleigh-Durham, North Carolina Area         44  \n",
              "59                        Denton, Texas        501  \n",
              "60           Greater New York City Area          1  \n",
              "61               San Francisco Bay Area        501  \n",
              "62            Greater Philadelphia Area        501  \n",
              "63              Lake Forest, California          2  \n",
              "64                  Houston, Texas Area        501  \n",
              "65                     Atlanta, Georgia        501  "
            ],
            "text/html": [
              "\n",
              "  <div id=\"df-d615bf9a-185a-4578-b3c2-d6d4a150f21d\">\n",
              "    <div class=\"colab-df-container\">\n",
              "      <div>\n",
              "<style scoped>\n",
              "    .dataframe tbody tr th:only-of-type {\n",
              "        vertical-align: middle;\n",
              "    }\n",
              "\n",
              "    .dataframe tbody tr th {\n",
              "        vertical-align: top;\n",
              "    }\n",
              "\n",
              "    .dataframe thead th {\n",
              "        text-align: right;\n",
              "    }\n",
              "</style>\n",
              "<table border=\"1\" class=\"dataframe\">\n",
              "  <thead>\n",
              "    <tr style=\"text-align: right;\">\n",
              "      <th></th>\n",
              "      <th>job_title</th>\n",
              "      <th>location</th>\n",
              "      <th>connection</th>\n",
              "    </tr>\n",
              "    <tr>\n",
              "      <th>id</th>\n",
              "      <th></th>\n",
              "      <th></th>\n",
              "      <th></th>\n",
              "    </tr>\n",
              "  </thead>\n",
              "  <tbody>\n",
              "    <tr>\n",
              "      <th>9</th>\n",
              "      <td>Student at Humber College and Aspiring Human R...</td>\n",
              "      <td>Kanada</td>\n",
              "      <td>61</td>\n",
              "    </tr>\n",
              "    <tr>\n",
              "      <th>14</th>\n",
              "      <td>2019 C.T. Bauer College of Business Graduate (...</td>\n",
              "      <td>Houston, Texas</td>\n",
              "      <td>85</td>\n",
              "    </tr>\n",
              "    <tr>\n",
              "      <th>15</th>\n",
              "      <td>2019 C.T. Bauer College of Business Graduate (...</td>\n",
              "      <td>Houston, Texas</td>\n",
              "      <td>85</td>\n",
              "    </tr>\n",
              "    <tr>\n",
              "      <th>16</th>\n",
              "      <td>Native English Teacher at EPIK (English Progra...</td>\n",
              "      <td>Kanada</td>\n",
              "      <td>501</td>\n",
              "    </tr>\n",
              "    <tr>\n",
              "      <th>17</th>\n",
              "      <td>Aspiring Human Resources Professional</td>\n",
              "      <td>Raleigh-Durham, North Carolina Area</td>\n",
              "      <td>44</td>\n",
              "    </tr>\n",
              "    <tr>\n",
              "      <th>18</th>\n",
              "      <td>People Development Coordinator at Ryan</td>\n",
              "      <td>Denton, Texas</td>\n",
              "      <td>501</td>\n",
              "    </tr>\n",
              "    <tr>\n",
              "      <th>19</th>\n",
              "      <td>2019 C.T. Bauer College of Business Graduate (...</td>\n",
              "      <td>Houston, Texas</td>\n",
              "      <td>85</td>\n",
              "    </tr>\n",
              "    <tr>\n",
              "      <th>20</th>\n",
              "      <td>Native English Teacher at EPIK (English Progra...</td>\n",
              "      <td>Kanada</td>\n",
              "      <td>501</td>\n",
              "    </tr>\n",
              "    <tr>\n",
              "      <th>21</th>\n",
              "      <td>Aspiring Human Resources Professional</td>\n",
              "      <td>Raleigh-Durham, North Carolina Area</td>\n",
              "      <td>44</td>\n",
              "    </tr>\n",
              "    <tr>\n",
              "      <th>22</th>\n",
              "      <td>People Development Coordinator at Ryan</td>\n",
              "      <td>Denton, Texas</td>\n",
              "      <td>501</td>\n",
              "    </tr>\n",
              "    <tr>\n",
              "      <th>23</th>\n",
              "      <td>Advisory Board Member at Celal Bayar University</td>\n",
              "      <td>İzmir, Türkiye</td>\n",
              "      <td>501</td>\n",
              "    </tr>\n",
              "    <tr>\n",
              "      <th>24</th>\n",
              "      <td>Aspiring Human Resources Specialist</td>\n",
              "      <td>Greater New York City Area</td>\n",
              "      <td>1</td>\n",
              "    </tr>\n",
              "    <tr>\n",
              "      <th>25</th>\n",
              "      <td>Student at Humber College and Aspiring Human R...</td>\n",
              "      <td>Kanada</td>\n",
              "      <td>61</td>\n",
              "    </tr>\n",
              "    <tr>\n",
              "      <th>26</th>\n",
              "      <td>HR Senior Specialist</td>\n",
              "      <td>San Francisco Bay Area</td>\n",
              "      <td>501</td>\n",
              "    </tr>\n",
              "    <tr>\n",
              "      <th>29</th>\n",
              "      <td>Aspiring Human Resources Management student se...</td>\n",
              "      <td>Houston, Texas Area</td>\n",
              "      <td>501</td>\n",
              "    </tr>\n",
              "    <tr>\n",
              "      <th>30</th>\n",
              "      <td>Seeking Human Resources Opportunities</td>\n",
              "      <td>Chicago, Illinois</td>\n",
              "      <td>390</td>\n",
              "    </tr>\n",
              "    <tr>\n",
              "      <th>31</th>\n",
              "      <td>2019 C.T. Bauer College of Business Graduate (...</td>\n",
              "      <td>Houston, Texas</td>\n",
              "      <td>85</td>\n",
              "    </tr>\n",
              "    <tr>\n",
              "      <th>32</th>\n",
              "      <td>Native English Teacher at EPIK (English Progra...</td>\n",
              "      <td>Kanada</td>\n",
              "      <td>501</td>\n",
              "    </tr>\n",
              "    <tr>\n",
              "      <th>33</th>\n",
              "      <td>Aspiring Human Resources Professional</td>\n",
              "      <td>Raleigh-Durham, North Carolina Area</td>\n",
              "      <td>44</td>\n",
              "    </tr>\n",
              "    <tr>\n",
              "      <th>34</th>\n",
              "      <td>People Development Coordinator at Ryan</td>\n",
              "      <td>Denton, Texas</td>\n",
              "      <td>501</td>\n",
              "    </tr>\n",
              "    <tr>\n",
              "      <th>35</th>\n",
              "      <td>Advisory Board Member at Celal Bayar University</td>\n",
              "      <td>İzmir, Türkiye</td>\n",
              "      <td>501</td>\n",
              "    </tr>\n",
              "    <tr>\n",
              "      <th>36</th>\n",
              "      <td>Aspiring Human Resources Specialist</td>\n",
              "      <td>Greater New York City Area</td>\n",
              "      <td>1</td>\n",
              "    </tr>\n",
              "    <tr>\n",
              "      <th>37</th>\n",
              "      <td>Student at Humber College and Aspiring Human R...</td>\n",
              "      <td>Kanada</td>\n",
              "      <td>61</td>\n",
              "    </tr>\n",
              "    <tr>\n",
              "      <th>38</th>\n",
              "      <td>HR Senior Specialist</td>\n",
              "      <td>San Francisco Bay Area</td>\n",
              "      <td>501</td>\n",
              "    </tr>\n",
              "    <tr>\n",
              "      <th>39</th>\n",
              "      <td>Student at Humber College and Aspiring Human R...</td>\n",
              "      <td>Kanada</td>\n",
              "      <td>61</td>\n",
              "    </tr>\n",
              "    <tr>\n",
              "      <th>40</th>\n",
              "      <td>Seeking Human Resources HRIS and Generalist Po...</td>\n",
              "      <td>Greater Philadelphia Area</td>\n",
              "      <td>501</td>\n",
              "    </tr>\n",
              "    <tr>\n",
              "      <th>41</th>\n",
              "      <td>Student at Chapman University</td>\n",
              "      <td>Lake Forest, California</td>\n",
              "      <td>2</td>\n",
              "    </tr>\n",
              "    <tr>\n",
              "      <th>42</th>\n",
              "      <td>SVP, CHRO, Marketing &amp; Communications, CSR Off...</td>\n",
              "      <td>Houston, Texas Area</td>\n",
              "      <td>501</td>\n",
              "    </tr>\n",
              "    <tr>\n",
              "      <th>43</th>\n",
              "      <td>Human Resources Coordinator at InterContinenta...</td>\n",
              "      <td>Atlanta, Georgia</td>\n",
              "      <td>501</td>\n",
              "    </tr>\n",
              "    <tr>\n",
              "      <th>44</th>\n",
              "      <td>2019 C.T. Bauer College of Business Graduate (...</td>\n",
              "      <td>Houston, Texas</td>\n",
              "      <td>85</td>\n",
              "    </tr>\n",
              "    <tr>\n",
              "      <th>45</th>\n",
              "      <td>Native English Teacher at EPIK (English Progra...</td>\n",
              "      <td>Kanada</td>\n",
              "      <td>501</td>\n",
              "    </tr>\n",
              "    <tr>\n",
              "      <th>46</th>\n",
              "      <td>Aspiring Human Resources Professional</td>\n",
              "      <td>Raleigh-Durham, North Carolina Area</td>\n",
              "      <td>44</td>\n",
              "    </tr>\n",
              "    <tr>\n",
              "      <th>47</th>\n",
              "      <td>People Development Coordinator at Ryan</td>\n",
              "      <td>Denton, Texas</td>\n",
              "      <td>501</td>\n",
              "    </tr>\n",
              "    <tr>\n",
              "      <th>48</th>\n",
              "      <td>Advisory Board Member at Celal Bayar University</td>\n",
              "      <td>İzmir, Türkiye</td>\n",
              "      <td>501</td>\n",
              "    </tr>\n",
              "    <tr>\n",
              "      <th>49</th>\n",
              "      <td>Aspiring Human Resources Specialist</td>\n",
              "      <td>Greater New York City Area</td>\n",
              "      <td>1</td>\n",
              "    </tr>\n",
              "    <tr>\n",
              "      <th>50</th>\n",
              "      <td>Student at Humber College and Aspiring Human R...</td>\n",
              "      <td>Kanada</td>\n",
              "      <td>61</td>\n",
              "    </tr>\n",
              "    <tr>\n",
              "      <th>51</th>\n",
              "      <td>HR Senior Specialist</td>\n",
              "      <td>San Francisco Bay Area</td>\n",
              "      <td>501</td>\n",
              "    </tr>\n",
              "    <tr>\n",
              "      <th>52</th>\n",
              "      <td>Student at Humber College and Aspiring Human R...</td>\n",
              "      <td>Kanada</td>\n",
              "      <td>61</td>\n",
              "    </tr>\n",
              "    <tr>\n",
              "      <th>53</th>\n",
              "      <td>Seeking Human Resources HRIS and Generalist Po...</td>\n",
              "      <td>Greater Philadelphia Area</td>\n",
              "      <td>501</td>\n",
              "    </tr>\n",
              "    <tr>\n",
              "      <th>54</th>\n",
              "      <td>Student at Chapman University</td>\n",
              "      <td>Lake Forest, California</td>\n",
              "      <td>2</td>\n",
              "    </tr>\n",
              "    <tr>\n",
              "      <th>55</th>\n",
              "      <td>SVP, CHRO, Marketing &amp; Communications, CSR Off...</td>\n",
              "      <td>Houston, Texas Area</td>\n",
              "      <td>501</td>\n",
              "    </tr>\n",
              "    <tr>\n",
              "      <th>56</th>\n",
              "      <td>Human Resources Coordinator at InterContinenta...</td>\n",
              "      <td>Atlanta, Georgia</td>\n",
              "      <td>501</td>\n",
              "    </tr>\n",
              "    <tr>\n",
              "      <th>57</th>\n",
              "      <td>2019 C.T. Bauer College of Business Graduate (...</td>\n",
              "      <td>Houston, Texas</td>\n",
              "      <td>85</td>\n",
              "    </tr>\n",
              "    <tr>\n",
              "      <th>58</th>\n",
              "      <td>Aspiring Human Resources Professional</td>\n",
              "      <td>Raleigh-Durham, North Carolina Area</td>\n",
              "      <td>44</td>\n",
              "    </tr>\n",
              "    <tr>\n",
              "      <th>59</th>\n",
              "      <td>People Development Coordinator at Ryan</td>\n",
              "      <td>Denton, Texas</td>\n",
              "      <td>501</td>\n",
              "    </tr>\n",
              "    <tr>\n",
              "      <th>60</th>\n",
              "      <td>Aspiring Human Resources Specialist</td>\n",
              "      <td>Greater New York City Area</td>\n",
              "      <td>1</td>\n",
              "    </tr>\n",
              "    <tr>\n",
              "      <th>61</th>\n",
              "      <td>HR Senior Specialist</td>\n",
              "      <td>San Francisco Bay Area</td>\n",
              "      <td>501</td>\n",
              "    </tr>\n",
              "    <tr>\n",
              "      <th>62</th>\n",
              "      <td>Seeking Human Resources HRIS and Generalist Po...</td>\n",
              "      <td>Greater Philadelphia Area</td>\n",
              "      <td>501</td>\n",
              "    </tr>\n",
              "    <tr>\n",
              "      <th>63</th>\n",
              "      <td>Student at Chapman University</td>\n",
              "      <td>Lake Forest, California</td>\n",
              "      <td>2</td>\n",
              "    </tr>\n",
              "    <tr>\n",
              "      <th>64</th>\n",
              "      <td>SVP, CHRO, Marketing &amp; Communications, CSR Off...</td>\n",
              "      <td>Houston, Texas Area</td>\n",
              "      <td>501</td>\n",
              "    </tr>\n",
              "    <tr>\n",
              "      <th>65</th>\n",
              "      <td>Human Resources Coordinator at InterContinenta...</td>\n",
              "      <td>Atlanta, Georgia</td>\n",
              "      <td>501</td>\n",
              "    </tr>\n",
              "  </tbody>\n",
              "</table>\n",
              "</div>\n",
              "      <button class=\"colab-df-convert\" onclick=\"convertToInteractive('df-d615bf9a-185a-4578-b3c2-d6d4a150f21d')\"\n",
              "              title=\"Convert this dataframe to an interactive table.\"\n",
              "              style=\"display:none;\">\n",
              "        \n",
              "  <svg xmlns=\"http://www.w3.org/2000/svg\" height=\"24px\"viewBox=\"0 0 24 24\"\n",
              "       width=\"24px\">\n",
              "    <path d=\"M0 0h24v24H0V0z\" fill=\"none\"/>\n",
              "    <path d=\"M18.56 5.44l.94 2.06.94-2.06 2.06-.94-2.06-.94-.94-2.06-.94 2.06-2.06.94zm-11 1L8.5 8.5l.94-2.06 2.06-.94-2.06-.94L8.5 2.5l-.94 2.06-2.06.94zm10 10l.94 2.06.94-2.06 2.06-.94-2.06-.94-.94-2.06-.94 2.06-2.06.94z\"/><path d=\"M17.41 7.96l-1.37-1.37c-.4-.4-.92-.59-1.43-.59-.52 0-1.04.2-1.43.59L10.3 9.45l-7.72 7.72c-.78.78-.78 2.05 0 2.83L4 21.41c.39.39.9.59 1.41.59.51 0 1.02-.2 1.41-.59l7.78-7.78 2.81-2.81c.8-.78.8-2.07 0-2.86zM5.41 20L4 18.59l7.72-7.72 1.47 1.35L5.41 20z\"/>\n",
              "  </svg>\n",
              "      </button>\n",
              "      \n",
              "  <style>\n",
              "    .colab-df-container {\n",
              "      display:flex;\n",
              "      flex-wrap:wrap;\n",
              "      gap: 12px;\n",
              "    }\n",
              "\n",
              "    .colab-df-convert {\n",
              "      background-color: #E8F0FE;\n",
              "      border: none;\n",
              "      border-radius: 50%;\n",
              "      cursor: pointer;\n",
              "      display: none;\n",
              "      fill: #1967D2;\n",
              "      height: 32px;\n",
              "      padding: 0 0 0 0;\n",
              "      width: 32px;\n",
              "    }\n",
              "\n",
              "    .colab-df-convert:hover {\n",
              "      background-color: #E2EBFA;\n",
              "      box-shadow: 0px 1px 2px rgba(60, 64, 67, 0.3), 0px 1px 3px 1px rgba(60, 64, 67, 0.15);\n",
              "      fill: #174EA6;\n",
              "    }\n",
              "\n",
              "    [theme=dark] .colab-df-convert {\n",
              "      background-color: #3B4455;\n",
              "      fill: #D2E3FC;\n",
              "    }\n",
              "\n",
              "    [theme=dark] .colab-df-convert:hover {\n",
              "      background-color: #434B5C;\n",
              "      box-shadow: 0px 1px 3px 1px rgba(0, 0, 0, 0.15);\n",
              "      filter: drop-shadow(0px 1px 2px rgba(0, 0, 0, 0.3));\n",
              "      fill: #FFFFFF;\n",
              "    }\n",
              "  </style>\n",
              "\n",
              "      <script>\n",
              "        const buttonEl =\n",
              "          document.querySelector('#df-d615bf9a-185a-4578-b3c2-d6d4a150f21d button.colab-df-convert');\n",
              "        buttonEl.style.display =\n",
              "          google.colab.kernel.accessAllowed ? 'block' : 'none';\n",
              "\n",
              "        async function convertToInteractive(key) {\n",
              "          const element = document.querySelector('#df-d615bf9a-185a-4578-b3c2-d6d4a150f21d');\n",
              "          const dataTable =\n",
              "            await google.colab.kernel.invokeFunction('convertToInteractive',\n",
              "                                                     [key], {});\n",
              "          if (!dataTable) return;\n",
              "\n",
              "          const docLinkHtml = 'Like what you see? Visit the ' +\n",
              "            '<a target=\"_blank\" href=https://colab.research.google.com/notebooks/data_table.ipynb>data table notebook</a>'\n",
              "            + ' to learn more about interactive tables.';\n",
              "          element.innerHTML = '';\n",
              "          dataTable['output_type'] = 'display_data';\n",
              "          await google.colab.output.renderOutput(dataTable, element);\n",
              "          const docLink = document.createElement('div');\n",
              "          docLink.innerHTML = docLinkHtml;\n",
              "          element.appendChild(docLink);\n",
              "        }\n",
              "      </script>\n",
              "    </div>\n",
              "  </div>\n",
              "  "
            ]
          },
          "metadata": {},
          "execution_count": 18
        }
      ]
    },
    {
      "cell_type": "code",
      "source": [
        "#number of duplicate rows in the total dataset\n",
        "df.loc[df.duplicated(), :]\n",
        "print(df.duplicated().sum())"
      ],
      "metadata": {
        "colab": {
          "base_uri": "https://localhost:8080/"
        },
        "id": "TT9dfjHxhvJL",
        "outputId": "4a518299-5471-4030-8728-3ae1a60b1b26"
      },
      "execution_count": 19,
      "outputs": [
        {
          "output_type": "stream",
          "name": "stdout",
          "text": [
            "51\n"
          ]
        }
      ]
    },
    {
      "cell_type": "code",
      "source": [
        "#drop the duplicate rows from the df\n",
        "df.drop_duplicates(inplace=True)\n",
        "df.shape"
      ],
      "metadata": {
        "colab": {
          "base_uri": "https://localhost:8080/"
        },
        "id": "Yl8xv3flh00f",
        "outputId": "09749e5b-c3b1-4ebe-f8b1-bea8543e697a"
      },
      "execution_count": 20,
      "outputs": [
        {
          "output_type": "execute_result",
          "data": {
            "text/plain": [
              "(53, 3)"
            ]
          },
          "metadata": {},
          "execution_count": 20
        }
      ]
    },
    {
      "cell_type": "code",
      "source": [],
      "metadata": {
        "id": "Ttkw-EnRwODb"
      },
      "execution_count": 20,
      "outputs": []
    },
    {
      "cell_type": "code",
      "source": [
        "def preprocess_text(text):\n",
        "    \n",
        "    tokenizer = RegexpTokenizer(r'\\w+')\n",
        "    tokens = tokenizer.tokenize(text)\n",
        "\n",
        "    lemmatiser = WordNetLemmatizer()\n",
        "    lemmas = [lemmatiser.lemmatize(token.lower(),pos='v') for token in tokens]\n",
        "\n",
        "    keywords= [lemma for lemma in lemmas if lemma not in stopwords.words('english')]\n",
        "    x=' '.join(keywords)\n",
        "    x=' '.join([w for w in x.split() if len(w)>1]) \n",
        "    x = re.sub(\"[+*,.|()${}&\\-'!@]\", '', x)  #cleanup special characters\n",
        "    x= re.sub('\\w*\\d\\w*','', x)             #remove numbers\n",
        "    return x"
      ],
      "metadata": {
        "id": "3LdoJItieaGA"
      },
      "execution_count": 21,
      "outputs": []
    },
    {
      "cell_type": "code",
      "source": [
        "df['job_title_cleaned'] = df.job_title.apply(preprocess_text)"
      ],
      "metadata": {
        "id": "UlMbx8mov8jS"
      },
      "execution_count": 22,
      "outputs": []
    },
    {
      "cell_type": "code",
      "source": [
        "df['job_title_cleaned']"
      ],
      "metadata": {
        "colab": {
          "base_uri": "https://localhost:8080/"
        },
        "id": "KhwOzzDlzPoq",
        "outputId": "829a9110-e94b-4cd2-e0ec-77fc4fb2b143"
      },
      "execution_count": 23,
      "outputs": [
        {
          "output_type": "execute_result",
          "data": {
            "text/plain": [
              "id\n",
              "1       bauer college business graduate magna cum lau...\n",
              "2      native english teacher epik english program korea\n",
              "3                    aspire human resources professional\n",
              "4                    people development coordinator ryan\n",
              "5           advisory board member celal bayar university\n",
              "6                      aspire human resources specialist\n",
              "7      student humber college aspire human resources ...\n",
              "8                                   hr senior specialist\n",
              "10         seek human resources hris generalist position\n",
              "11                            student chapman university\n",
              "12     svp chro market communications csr officer eng...\n",
              "13     human resources coordinator intercontinental b...\n",
              "27     aspire human resources management student seek...\n",
              "28                    seek human resources opportunities\n",
              "66     experience retail manager aspire human resourc...\n",
              "67            human resources staff recruit professional\n",
              "68                  human resources specialist luxottica\n",
              "69     director human resources north america groupe ...\n",
              "70     retire army national guard recruiter office ma...\n",
              "71            human resources generalist scottmadden inc\n",
              "72     business management major aspire human resourc...\n",
              "73     aspire human resources manager seek internship...\n",
              "74                          human resources professional\n",
              "75     nortia staff seek human resources payroll admi...\n",
              "76     aspire human resources professional passionate...\n",
              "77     human resources conflict management policies p...\n",
              "78                     human resources generalist schwan\n",
              "79     liberal arts major aspire human resources analyst\n",
              "80               junior mes engineer information systems\n",
              "81     senior human resources business partner heil e...\n",
              "82     aspire human resources professional energetic ...\n",
              "83                hr manager endemol shine north america\n",
              "84     human resources professional world leader gi s...\n",
              "85     rrp brand portfolio executive jti japan tobacc...\n",
              "86     information systems specialist programmer love...\n",
              "87     bachelor science biology victoria university w...\n",
              "88                      human resources management major\n",
              "89                           director human resources ey\n",
              "90       undergraduate research assistant styczynski lab\n",
              "91             lead official western illinois university\n",
              "92     seek employment opportunities within customer ...\n",
              "93     admissions representative community medical ce...\n",
              "94     seek human resources opportunities open travel...\n",
              "95                    student westfield state university\n",
              "96     student indiana university kokomo business man...\n",
              "97                   aspire human resources professional\n",
              "98                                               student\n",
              "99                         seek human resources position\n",
              "100    aspire human resources manager graduate may  s...\n",
              "101                   human resources generalist loparex\n",
              "102            business intelligence analytics travelers\n",
              "103                                   always set success\n",
              "104               director administration excellence log\n",
              "Name: job_title_cleaned, dtype: object"
            ]
          },
          "metadata": {},
          "execution_count": 23
        }
      ]
    },
    {
      "cell_type": "code",
      "source": [
        "df[df['job_title_cleaned'].str.contains('hr')]"
      ],
      "metadata": {
        "colab": {
          "base_uri": "https://localhost:8080/",
          "height": 206
        },
        "id": "uEUp2LUOzTi-",
        "outputId": "782cf25c-c430-4edc-cfe8-18faa8c52466"
      },
      "execution_count": 24,
      "outputs": [
        {
          "output_type": "execute_result",
          "data": {
            "text/plain": [
              "                                            job_title  \\\n",
              "id                                                      \n",
              "8                                HR Senior Specialist   \n",
              "10  Seeking Human Resources HRIS and Generalist Po...   \n",
              "12  SVP, CHRO, Marketing & Communications, CSR Off...   \n",
              "83          HR Manager at Endemol Shine North America   \n",
              "\n",
              "                     location connection  \\\n",
              "id                                         \n",
              "8      San Francisco Bay Area        501   \n",
              "10  Greater Philadelphia Area        501   \n",
              "12        Houston, Texas Area        501   \n",
              "83    Los Angeles, California        268   \n",
              "\n",
              "                                    job_title_cleaned  \n",
              "id                                                     \n",
              "8                                hr senior specialist  \n",
              "10      seek human resources hris generalist position  \n",
              "12  svp chro market communications csr officer eng...  \n",
              "83             hr manager endemol shine north america  "
            ],
            "text/html": [
              "\n",
              "  <div id=\"df-889f499a-3c2b-460f-99c3-611b491b4308\">\n",
              "    <div class=\"colab-df-container\">\n",
              "      <div>\n",
              "<style scoped>\n",
              "    .dataframe tbody tr th:only-of-type {\n",
              "        vertical-align: middle;\n",
              "    }\n",
              "\n",
              "    .dataframe tbody tr th {\n",
              "        vertical-align: top;\n",
              "    }\n",
              "\n",
              "    .dataframe thead th {\n",
              "        text-align: right;\n",
              "    }\n",
              "</style>\n",
              "<table border=\"1\" class=\"dataframe\">\n",
              "  <thead>\n",
              "    <tr style=\"text-align: right;\">\n",
              "      <th></th>\n",
              "      <th>job_title</th>\n",
              "      <th>location</th>\n",
              "      <th>connection</th>\n",
              "      <th>job_title_cleaned</th>\n",
              "    </tr>\n",
              "    <tr>\n",
              "      <th>id</th>\n",
              "      <th></th>\n",
              "      <th></th>\n",
              "      <th></th>\n",
              "      <th></th>\n",
              "    </tr>\n",
              "  </thead>\n",
              "  <tbody>\n",
              "    <tr>\n",
              "      <th>8</th>\n",
              "      <td>HR Senior Specialist</td>\n",
              "      <td>San Francisco Bay Area</td>\n",
              "      <td>501</td>\n",
              "      <td>hr senior specialist</td>\n",
              "    </tr>\n",
              "    <tr>\n",
              "      <th>10</th>\n",
              "      <td>Seeking Human Resources HRIS and Generalist Po...</td>\n",
              "      <td>Greater Philadelphia Area</td>\n",
              "      <td>501</td>\n",
              "      <td>seek human resources hris generalist position</td>\n",
              "    </tr>\n",
              "    <tr>\n",
              "      <th>12</th>\n",
              "      <td>SVP, CHRO, Marketing &amp; Communications, CSR Off...</td>\n",
              "      <td>Houston, Texas Area</td>\n",
              "      <td>501</td>\n",
              "      <td>svp chro market communications csr officer eng...</td>\n",
              "    </tr>\n",
              "    <tr>\n",
              "      <th>83</th>\n",
              "      <td>HR Manager at Endemol Shine North America</td>\n",
              "      <td>Los Angeles, California</td>\n",
              "      <td>268</td>\n",
              "      <td>hr manager endemol shine north america</td>\n",
              "    </tr>\n",
              "  </tbody>\n",
              "</table>\n",
              "</div>\n",
              "      <button class=\"colab-df-convert\" onclick=\"convertToInteractive('df-889f499a-3c2b-460f-99c3-611b491b4308')\"\n",
              "              title=\"Convert this dataframe to an interactive table.\"\n",
              "              style=\"display:none;\">\n",
              "        \n",
              "  <svg xmlns=\"http://www.w3.org/2000/svg\" height=\"24px\"viewBox=\"0 0 24 24\"\n",
              "       width=\"24px\">\n",
              "    <path d=\"M0 0h24v24H0V0z\" fill=\"none\"/>\n",
              "    <path d=\"M18.56 5.44l.94 2.06.94-2.06 2.06-.94-2.06-.94-.94-2.06-.94 2.06-2.06.94zm-11 1L8.5 8.5l.94-2.06 2.06-.94-2.06-.94L8.5 2.5l-.94 2.06-2.06.94zm10 10l.94 2.06.94-2.06 2.06-.94-2.06-.94-.94-2.06-.94 2.06-2.06.94z\"/><path d=\"M17.41 7.96l-1.37-1.37c-.4-.4-.92-.59-1.43-.59-.52 0-1.04.2-1.43.59L10.3 9.45l-7.72 7.72c-.78.78-.78 2.05 0 2.83L4 21.41c.39.39.9.59 1.41.59.51 0 1.02-.2 1.41-.59l7.78-7.78 2.81-2.81c.8-.78.8-2.07 0-2.86zM5.41 20L4 18.59l7.72-7.72 1.47 1.35L5.41 20z\"/>\n",
              "  </svg>\n",
              "      </button>\n",
              "      \n",
              "  <style>\n",
              "    .colab-df-container {\n",
              "      display:flex;\n",
              "      flex-wrap:wrap;\n",
              "      gap: 12px;\n",
              "    }\n",
              "\n",
              "    .colab-df-convert {\n",
              "      background-color: #E8F0FE;\n",
              "      border: none;\n",
              "      border-radius: 50%;\n",
              "      cursor: pointer;\n",
              "      display: none;\n",
              "      fill: #1967D2;\n",
              "      height: 32px;\n",
              "      padding: 0 0 0 0;\n",
              "      width: 32px;\n",
              "    }\n",
              "\n",
              "    .colab-df-convert:hover {\n",
              "      background-color: #E2EBFA;\n",
              "      box-shadow: 0px 1px 2px rgba(60, 64, 67, 0.3), 0px 1px 3px 1px rgba(60, 64, 67, 0.15);\n",
              "      fill: #174EA6;\n",
              "    }\n",
              "\n",
              "    [theme=dark] .colab-df-convert {\n",
              "      background-color: #3B4455;\n",
              "      fill: #D2E3FC;\n",
              "    }\n",
              "\n",
              "    [theme=dark] .colab-df-convert:hover {\n",
              "      background-color: #434B5C;\n",
              "      box-shadow: 0px 1px 3px 1px rgba(0, 0, 0, 0.15);\n",
              "      filter: drop-shadow(0px 1px 2px rgba(0, 0, 0, 0.3));\n",
              "      fill: #FFFFFF;\n",
              "    }\n",
              "  </style>\n",
              "\n",
              "      <script>\n",
              "        const buttonEl =\n",
              "          document.querySelector('#df-889f499a-3c2b-460f-99c3-611b491b4308 button.colab-df-convert');\n",
              "        buttonEl.style.display =\n",
              "          google.colab.kernel.accessAllowed ? 'block' : 'none';\n",
              "\n",
              "        async function convertToInteractive(key) {\n",
              "          const element = document.querySelector('#df-889f499a-3c2b-460f-99c3-611b491b4308');\n",
              "          const dataTable =\n",
              "            await google.colab.kernel.invokeFunction('convertToInteractive',\n",
              "                                                     [key], {});\n",
              "          if (!dataTable) return;\n",
              "\n",
              "          const docLinkHtml = 'Like what you see? Visit the ' +\n",
              "            '<a target=\"_blank\" href=https://colab.research.google.com/notebooks/data_table.ipynb>data table notebook</a>'\n",
              "            + ' to learn more about interactive tables.';\n",
              "          element.innerHTML = '';\n",
              "          dataTable['output_type'] = 'display_data';\n",
              "          await google.colab.output.renderOutput(dataTable, element);\n",
              "          const docLink = document.createElement('div');\n",
              "          docLink.innerHTML = docLinkHtml;\n",
              "          element.appendChild(docLink);\n",
              "        }\n",
              "      </script>\n",
              "    </div>\n",
              "  </div>\n",
              "  "
            ]
          },
          "metadata": {},
          "execution_count": 24
        }
      ]
    },
    {
      "cell_type": "code",
      "source": [
        "df[df['job_title_cleaned'].str.contains('gphr')]['job_title_cleaned']"
      ],
      "metadata": {
        "colab": {
          "base_uri": "https://localhost:8080/"
        },
        "id": "FqaILXOw05K4",
        "outputId": "7b5ee3f4-ebf7-4f68-c08d-2e2a0c166d11"
      },
      "execution_count": 25,
      "outputs": [
        {
          "output_type": "execute_result",
          "data": {
            "text/plain": [
              "id\n",
              "12    svp chro market communications csr officer eng...\n",
              "Name: job_title_cleaned, dtype: object"
            ]
          },
          "metadata": {},
          "execution_count": 25
        }
      ]
    },
    {
      "cell_type": "code",
      "source": [
        "#replace abbreviations\n",
        "df.replace({'job_title_cleaned': {'svp': 'senior vice president','gphr' : 'global professional in human resources', 'hris' : 'human resources information system',\n",
        "                                  'csr' : 'corporate social responsibility','hr' : 'human resources', 'chro' : 'chief human resources officer', }}, regex=True, inplace=True)"
      ],
      "metadata": {
        "id": "HKtdzq0v0Xa9"
      },
      "execution_count": 26,
      "outputs": []
    },
    {
      "cell_type": "code",
      "source": [
        "df[df['job_title_cleaned'].str.contains('hr')]"
      ],
      "metadata": {
        "colab": {
          "base_uri": "https://localhost:8080/",
          "height": 81
        },
        "id": "bJO2qGHl1S7v",
        "outputId": "aa4cd3c4-2ca6-40a1-f8da-75f21f80f81c"
      },
      "execution_count": 27,
      "outputs": [
        {
          "output_type": "execute_result",
          "data": {
            "text/plain": [
              "Empty DataFrame\n",
              "Columns: [job_title, location, connection, job_title_cleaned]\n",
              "Index: []"
            ],
            "text/html": [
              "\n",
              "  <div id=\"df-4aa3c72a-9aef-4fe0-87a0-32d41a803d63\">\n",
              "    <div class=\"colab-df-container\">\n",
              "      <div>\n",
              "<style scoped>\n",
              "    .dataframe tbody tr th:only-of-type {\n",
              "        vertical-align: middle;\n",
              "    }\n",
              "\n",
              "    .dataframe tbody tr th {\n",
              "        vertical-align: top;\n",
              "    }\n",
              "\n",
              "    .dataframe thead th {\n",
              "        text-align: right;\n",
              "    }\n",
              "</style>\n",
              "<table border=\"1\" class=\"dataframe\">\n",
              "  <thead>\n",
              "    <tr style=\"text-align: right;\">\n",
              "      <th></th>\n",
              "      <th>job_title</th>\n",
              "      <th>location</th>\n",
              "      <th>connection</th>\n",
              "      <th>job_title_cleaned</th>\n",
              "    </tr>\n",
              "    <tr>\n",
              "      <th>id</th>\n",
              "      <th></th>\n",
              "      <th></th>\n",
              "      <th></th>\n",
              "      <th></th>\n",
              "    </tr>\n",
              "  </thead>\n",
              "  <tbody>\n",
              "  </tbody>\n",
              "</table>\n",
              "</div>\n",
              "      <button class=\"colab-df-convert\" onclick=\"convertToInteractive('df-4aa3c72a-9aef-4fe0-87a0-32d41a803d63')\"\n",
              "              title=\"Convert this dataframe to an interactive table.\"\n",
              "              style=\"display:none;\">\n",
              "        \n",
              "  <svg xmlns=\"http://www.w3.org/2000/svg\" height=\"24px\"viewBox=\"0 0 24 24\"\n",
              "       width=\"24px\">\n",
              "    <path d=\"M0 0h24v24H0V0z\" fill=\"none\"/>\n",
              "    <path d=\"M18.56 5.44l.94 2.06.94-2.06 2.06-.94-2.06-.94-.94-2.06-.94 2.06-2.06.94zm-11 1L8.5 8.5l.94-2.06 2.06-.94-2.06-.94L8.5 2.5l-.94 2.06-2.06.94zm10 10l.94 2.06.94-2.06 2.06-.94-2.06-.94-.94-2.06-.94 2.06-2.06.94z\"/><path d=\"M17.41 7.96l-1.37-1.37c-.4-.4-.92-.59-1.43-.59-.52 0-1.04.2-1.43.59L10.3 9.45l-7.72 7.72c-.78.78-.78 2.05 0 2.83L4 21.41c.39.39.9.59 1.41.59.51 0 1.02-.2 1.41-.59l7.78-7.78 2.81-2.81c.8-.78.8-2.07 0-2.86zM5.41 20L4 18.59l7.72-7.72 1.47 1.35L5.41 20z\"/>\n",
              "  </svg>\n",
              "      </button>\n",
              "      \n",
              "  <style>\n",
              "    .colab-df-container {\n",
              "      display:flex;\n",
              "      flex-wrap:wrap;\n",
              "      gap: 12px;\n",
              "    }\n",
              "\n",
              "    .colab-df-convert {\n",
              "      background-color: #E8F0FE;\n",
              "      border: none;\n",
              "      border-radius: 50%;\n",
              "      cursor: pointer;\n",
              "      display: none;\n",
              "      fill: #1967D2;\n",
              "      height: 32px;\n",
              "      padding: 0 0 0 0;\n",
              "      width: 32px;\n",
              "    }\n",
              "\n",
              "    .colab-df-convert:hover {\n",
              "      background-color: #E2EBFA;\n",
              "      box-shadow: 0px 1px 2px rgba(60, 64, 67, 0.3), 0px 1px 3px 1px rgba(60, 64, 67, 0.15);\n",
              "      fill: #174EA6;\n",
              "    }\n",
              "\n",
              "    [theme=dark] .colab-df-convert {\n",
              "      background-color: #3B4455;\n",
              "      fill: #D2E3FC;\n",
              "    }\n",
              "\n",
              "    [theme=dark] .colab-df-convert:hover {\n",
              "      background-color: #434B5C;\n",
              "      box-shadow: 0px 1px 3px 1px rgba(0, 0, 0, 0.15);\n",
              "      filter: drop-shadow(0px 1px 2px rgba(0, 0, 0, 0.3));\n",
              "      fill: #FFFFFF;\n",
              "    }\n",
              "  </style>\n",
              "\n",
              "      <script>\n",
              "        const buttonEl =\n",
              "          document.querySelector('#df-4aa3c72a-9aef-4fe0-87a0-32d41a803d63 button.colab-df-convert');\n",
              "        buttonEl.style.display =\n",
              "          google.colab.kernel.accessAllowed ? 'block' : 'none';\n",
              "\n",
              "        async function convertToInteractive(key) {\n",
              "          const element = document.querySelector('#df-4aa3c72a-9aef-4fe0-87a0-32d41a803d63');\n",
              "          const dataTable =\n",
              "            await google.colab.kernel.invokeFunction('convertToInteractive',\n",
              "                                                     [key], {});\n",
              "          if (!dataTable) return;\n",
              "\n",
              "          const docLinkHtml = 'Like what you see? Visit the ' +\n",
              "            '<a target=\"_blank\" href=https://colab.research.google.com/notebooks/data_table.ipynb>data table notebook</a>'\n",
              "            + ' to learn more about interactive tables.';\n",
              "          element.innerHTML = '';\n",
              "          dataTable['output_type'] = 'display_data';\n",
              "          await google.colab.output.renderOutput(dataTable, element);\n",
              "          const docLink = document.createElement('div');\n",
              "          docLink.innerHTML = docLinkHtml;\n",
              "          element.appendChild(docLink);\n",
              "        }\n",
              "      </script>\n",
              "    </div>\n",
              "  </div>\n",
              "  "
            ]
          },
          "metadata": {},
          "execution_count": 27
        }
      ]
    },
    {
      "cell_type": "code",
      "source": [
        "df.job_title_cleaned.value_counts()"
      ],
      "metadata": {
        "colab": {
          "base_uri": "https://localhost:8080/"
        },
        "id": "WWhWDu_v1Ti8",
        "outputId": "b2a549ca-1482-4c97-8e6f-8e66b5161e4b"
      },
      "execution_count": 28,
      "outputs": [
        {
          "output_type": "execute_result",
          "data": {
            "text/plain": [
              "aspire human resources professional                                                                                                                                                              2\n",
              " bauer college business graduate magna cum laude aspire human resources professional                                                                                                             1\n",
              "lead official western illinois university                                                                                                                                                        1\n",
              "senior human resources business partner heil environmental                                                                                                                                       1\n",
              "aspire human resources professional energetic team focus leader                                                                                                                                  1\n",
              "human resources manager endemol shine north america                                                                                                                                              1\n",
              "human resources professional world leader gi software                                                                                                                                            1\n",
              "rrp brand portfolio executive jti japan tobacco international                                                                                                                                    1\n",
              "information systems specialist programmer love data organization                                                                                                                                 1\n",
              "bachelor science biology victoria university wellington                                                                                                                                          1\n",
              "human resources management major                                                                                                                                                                 1\n",
              "director human resources ey                                                                                                                                                                      1\n",
              "undergraduate research assistant styczynski lab                                                                                                                                                  1\n",
              "seek employment opportunities within customer service patient care                                                                                                                               1\n",
              "liberal arts major aspire human resources analyst                                                                                                                                                1\n",
              "admissions representative community medical center long beach                                                                                                                                    1\n",
              "seek human resources opportunities open travel relocation                                                                                                                                        1\n",
              "student westfield state university                                                                                                                                                               1\n",
              "student indiana university kokomo business management retail manager delphi hardware paint                                                                                                       1\n",
              "student                                                                                                                                                                                          1\n",
              "seek human resources position                                                                                                                                                                    1\n",
              "aspire human resources manager graduate may  seek entry level human resources position st louis                                                                                                  1\n",
              "human resources generalist loparex                                                                                                                                                               1\n",
              "business intelligence analytics travelers                                                                                                                                                        1\n",
              "always set success                                                                                                                                                                               1\n",
              "junior mes engineer information systems                                                                                                                                                          1\n",
              "human resources generalist schwan                                                                                                                                                                1\n",
              "native english teacher epik english program korea                                                                                                                                                1\n",
              "seek human resources opportunities                                                                                                                                                               1\n",
              "people development coordinator ryan                                                                                                                                                              1\n",
              "advisory board member celal bayar university                                                                                                                                                     1\n",
              "aspire human resources specialist                                                                                                                                                                1\n",
              "student humber college aspire human resources generalist                                                                                                                                         1\n",
              "human resources senior specialist                                                                                                                                                                1\n",
              "seek human resources human resources information system generalist position                                                                                                                      1\n",
              "student chapman university                                                                                                                                                                       1\n",
              "senior vice president chuman resourceso market communications corporate social responsibility officer engie houston woodlands energy global professional in human resources sphuman resources    1\n",
              "human resources coordinator intercontinental buckhead atlanta                                                                                                                                    1\n",
              "aspire human resources management student seek internship                                                                                                                                        1\n",
              "experience retail manager aspire human resources professional                                                                                                                                    1\n",
              "human resources conflict management policies procedures talent management benefit compensation                                                                                                   1\n",
              "human resources staff recruit professional                                                                                                                                                       1\n",
              "human resources specialist luxottica                                                                                                                                                             1\n",
              "director human resources north america groupe beneteau                                                                                                                                           1\n",
              "retire army national guard recruiter office manager seek position human resources                                                                                                                1\n",
              "human resources generalist scottmadden inc                                                                                                                                                       1\n",
              "business management major aspire human resources manager                                                                                                                                         1\n",
              "aspire human resources manager seek internship human resources                                                                                                                                   1\n",
              "human resources professional                                                                                                                                                                     1\n",
              "nortia staff seek human resources payroll administrative professionals                                                                                                                           1\n",
              "aspire human resources professional passionate help create inclusive engage work environment                                                                                                     1\n",
              "director administration excellence log                                                                                                                                                           1\n",
              "Name: job_title_cleaned, dtype: int64"
            ]
          },
          "metadata": {},
          "execution_count": 28
        }
      ]
    },
    {
      "cell_type": "code",
      "source": [
        "count_dict = Counter()\n",
        "for title in df.job_title_cleaned:\n",
        "    for word in title.split(\" \"):\n",
        "        count_dict[word] += 1\n",
        "\n",
        "print(len(count_dict) ,'words in the job title column')\n",
        "count_dict.most_common(10)"
      ],
      "metadata": {
        "colab": {
          "base_uri": "https://localhost:8080/"
        },
        "id": "fZ5ibG4s1ZsM",
        "outputId": "9c36ec91-638c-4e73-9c17-c370d02bd886"
      },
      "execution_count": 29,
      "outputs": [
        {
          "output_type": "stream",
          "name": "stdout",
          "text": [
            "183 words in the job title column\n"
          ]
        },
        {
          "output_type": "execute_result",
          "data": {
            "text/plain": [
              "[('resources', 39),\n",
              " ('human', 38),\n",
              " ('aspire', 13),\n",
              " ('professional', 10),\n",
              " ('seek', 10),\n",
              " ('manager', 7),\n",
              " ('university', 6),\n",
              " ('student', 6),\n",
              " ('management', 6),\n",
              " ('', 5)]"
            ]
          },
          "metadata": {},
          "execution_count": 29
        }
      ]
    },
    {
      "cell_type": "code",
      "source": [],
      "metadata": {
        "id": "Jy1kaO9X2eN8"
      },
      "execution_count": 29,
      "outputs": []
    },
    {
      "cell_type": "markdown",
      "source": [
        "# Rank candidates based on their fit for the position"
      ],
      "metadata": {
        "id": "xyt-ZRff3w_I"
      }
    },
    {
      "cell_type": "code",
      "source": [
        "keyword = 'aspiring human resources'\n",
        "keyword = preprocess_text(keyword)"
      ],
      "metadata": {
        "id": "F6BSadxy5bdi"
      },
      "execution_count": 30,
      "outputs": []
    },
    {
      "cell_type": "code",
      "source": [
        "print(keyword)"
      ],
      "metadata": {
        "colab": {
          "base_uri": "https://localhost:8080/"
        },
        "id": "Xkj-uKcr5fPE",
        "outputId": "92d7e10a-aa37-4e8a-92f0-3ffdd92cf2e1"
      },
      "execution_count": 31,
      "outputs": [
        {
          "output_type": "stream",
          "name": "stdout",
          "text": [
            "aspire human resources\n"
          ]
        }
      ]
    },
    {
      "cell_type": "code",
      "source": [
        "keyword = [keyword]"
      ],
      "metadata": {
        "id": "KiyJVKVj97Tb"
      },
      "execution_count": null,
      "outputs": []
    },
    {
      "cell_type": "markdown",
      "source": [
        "## Prepare Corpus"
      ],
      "metadata": {
        "id": "Ip4pnfgsvMv5"
      }
    },
    {
      "cell_type": "code",
      "source": [
        "corpus=df['job_title_cleaned'].tolist()"
      ],
      "metadata": {
        "id": "l18h9d6ivOf5"
      },
      "execution_count": 45,
      "outputs": []
    },
    {
      "cell_type": "markdown",
      "source": [
        "## TF IDF Vectorizer"
      ],
      "metadata": {
        "id": "SPPsx-Fh4UmQ"
      }
    },
    {
      "cell_type": "code",
      "source": [
        "from sklearn.feature_extraction.text import TfidfVectorizer\n"
      ],
      "metadata": {
        "id": "JV26ZZqn312_"
      },
      "execution_count": 32,
      "outputs": []
    },
    {
      "cell_type": "code",
      "source": [
        "tfidf_vectorizer = TfidfVectorizer() \n",
        "\n"
      ],
      "metadata": {
        "id": "NjvgXOwl4Wej"
      },
      "execution_count": 33,
      "outputs": []
    },
    {
      "cell_type": "markdown",
      "source": [
        "## Fit and transform TF IDF to the corpus\n"
      ],
      "metadata": {
        "id": "vCGB9gBFumFi"
      }
    },
    {
      "cell_type": "code",
      "source": [
        "jobs_vectorized = tfidf_vectorizer.fit_transform(corpus)"
      ],
      "metadata": {
        "id": "XD8psEEFulsz"
      },
      "execution_count": 46,
      "outputs": []
    },
    {
      "cell_type": "code",
      "source": [
        "feature_names = tfidf_vectorizer.get_feature_names()                  \n",
        "print(\"Number of unique features: \", len(feature_names)) \n",
        "print(\"First 5 features: \", feature_names[:5]) "
      ],
      "metadata": {
        "colab": {
          "base_uri": "https://localhost:8080/"
        },
        "id": "wVEqsttavhGg",
        "outputId": "64a2019f-9177-4813-d0ab-492a47837d19"
      },
      "execution_count": 47,
      "outputs": [
        {
          "output_type": "stream",
          "name": "stdout",
          "text": [
            "Number of unique features:  182\n",
            "First 5 features:  ['administration', 'administrative', 'admissions', 'advisory', 'always']\n"
          ]
        },
        {
          "output_type": "stream",
          "name": "stderr",
          "text": [
            "/usr/local/lib/python3.7/dist-packages/sklearn/utils/deprecation.py:87: FutureWarning: Function get_feature_names is deprecated; get_feature_names is deprecated in 1.0 and will be removed in 1.2. Please use get_feature_names_out instead.\n",
            "  warnings.warn(msg, category=FutureWarning)\n"
          ]
        }
      ]
    },
    {
      "cell_type": "code",
      "source": [
        "tfidf_vector = jobs_vectorized.toarray()                                  \n",
        "print(\"Shape of tf-idf vector: \", tfidf_vector.shape)  "
      ],
      "metadata": {
        "colab": {
          "base_uri": "https://localhost:8080/"
        },
        "id": "3D28fx1qvupy",
        "outputId": "eb643f14-a29f-4073-dacd-209fb4f7726e"
      },
      "execution_count": 48,
      "outputs": [
        {
          "output_type": "stream",
          "name": "stdout",
          "text": [
            "Shape of Tfidf vector:  (53, 182)\n"
          ]
        }
      ]
    },
    {
      "cell_type": "code",
      "source": [],
      "metadata": {
        "id": "bQ-HMzovyJIb"
      },
      "execution_count": null,
      "outputs": []
    },
    {
      "cell_type": "markdown",
      "source": [
        "## General Function to Calculate Similarity"
      ],
      "metadata": {
        "id": "WHaEwitH2t0k"
      }
    },
    {
      "cell_type": "code",
      "source": [
        "def cos_similarity(u, v):\n",
        "    # Dot product\n",
        "    dp = np.dot(u, v)\n",
        "    \n",
        "    # Norms of u and v\n",
        "    norm_u = np.sqrt(np.sum(u**2))\n",
        "    norm_v = np.sqrt(np.sum(v**2))\n",
        "    \n",
        "    # Special case, if product of norms is 0:\n",
        "    # avoids division by 0\n",
        "    if np.isclose(norm_u * norm_v, 0, atol=1e-32):\n",
        "        return 0\n",
        "    \n",
        "    # Computes cosine similarity\n",
        "    cos_similarity = dp / (norm_u * norm_v)\n",
        "    \n",
        "    return cos_similarity"
      ],
      "metadata": {
        "id": "zoNDnCaB5Cou"
      },
      "execution_count": 76,
      "outputs": []
    },
    {
      "cell_type": "code",
      "source": [
        "def similarity(vectorizer, target_title, vectors_jobs, df, column_name):\n",
        "    # Convert search phrase into a vector\n",
        "    target_title = vectorizer.transform(target_title)                    \n",
        "    target_vector = target_title.toarray()\n",
        "    print(\"Shape of keywords vector:\", target_vector.shape)\n",
        "    \n",
        "    # Calcualte tf-idf cosine similarity and add it to the dataframe\n",
        "    scores = []\n",
        "    for i in range (len(vectors_jobs)):\n",
        "        #scores.append(cos_similarity(target_vector, vectors_jobs[i]))\n",
        "        scores.append(1 - cosine(vectors_jobs[i], target_vector))\n",
        "        #cosine_sim = cosine_similarity(jobs_vectorized[x], target_vector)\n",
        "\n",
        "    df[column_name] = scores\n",
        "    return df"
      ],
      "metadata": {
        "id": "-p56tEMBuER1"
      },
      "execution_count": 87,
      "outputs": []
    },
    {
      "cell_type": "markdown",
      "source": [],
      "metadata": {
        "id": "tyiVj7Qw2tOX"
      }
    },
    {
      "cell_type": "code",
      "source": [
        "similar_df = similarity(tfidf_vectorizer, keyword, tfidf_vector, df, 'tf_idf_fit')"
      ],
      "metadata": {
        "id": "b46E-E7V5PBv",
        "colab": {
          "base_uri": "https://localhost:8080/"
        },
        "outputId": "46790a9b-49b5-4597-e4a4-f14d412f7c6e"
      },
      "execution_count": 88,
      "outputs": [
        {
          "output_type": "stream",
          "name": "stdout",
          "text": [
            "Shape of keywords vector: (1, 182)\n"
          ]
        }
      ]
    },
    {
      "cell_type": "code",
      "source": [
        "similar_df.sort_values(by ='tf_idf_fit', ascending = False).head()"
      ],
      "metadata": {
        "id": "Gl5Joaf75TPS",
        "colab": {
          "base_uri": "https://localhost:8080/",
          "height": 238
        },
        "outputId": "4b336db6-8038-40a5-d389-7cf26743cb12"
      },
      "execution_count": 89,
      "outputs": [
        {
          "output_type": "execute_result",
          "data": {
            "text/plain": [
              "                                            job_title  \\\n",
              "id                                                      \n",
              "97              Aspiring Human Resources Professional   \n",
              "3               Aspiring Human Resources Professional   \n",
              "6                 Aspiring Human Resources Specialist   \n",
              "73  Aspiring Human Resources Manager, seeking inte...   \n",
              "27  Aspiring Human Resources Management student se...   \n",
              "\n",
              "                               location connection  \\\n",
              "id                                                   \n",
              "97                 Kokomo, Indiana Area         71   \n",
              "3   Raleigh-Durham, North Carolina Area         44   \n",
              "6            Greater New York City Area          1   \n",
              "73                  Houston, Texas Area          7   \n",
              "27                  Houston, Texas Area        501   \n",
              "\n",
              "                                    job_title_cleaned       fit  tf_idf_fit  \n",
              "id                                                                           \n",
              "97                aspire human resources professional  0.765002    0.765002  \n",
              "3                 aspire human resources professional  0.765002    0.765002  \n",
              "6                   aspire human resources specialist  0.673329    0.673329  \n",
              "73  aspire human resources manager seek internship...  0.606927    0.606927  \n",
              "27  aspire human resources management student seek...  0.431808    0.431808  "
            ],
            "text/html": [
              "\n",
              "  <div id=\"df-b264431b-590d-49d6-a46f-5d6d09f60555\">\n",
              "    <div class=\"colab-df-container\">\n",
              "      <div>\n",
              "<style scoped>\n",
              "    .dataframe tbody tr th:only-of-type {\n",
              "        vertical-align: middle;\n",
              "    }\n",
              "\n",
              "    .dataframe tbody tr th {\n",
              "        vertical-align: top;\n",
              "    }\n",
              "\n",
              "    .dataframe thead th {\n",
              "        text-align: right;\n",
              "    }\n",
              "</style>\n",
              "<table border=\"1\" class=\"dataframe\">\n",
              "  <thead>\n",
              "    <tr style=\"text-align: right;\">\n",
              "      <th></th>\n",
              "      <th>job_title</th>\n",
              "      <th>location</th>\n",
              "      <th>connection</th>\n",
              "      <th>job_title_cleaned</th>\n",
              "      <th>fit</th>\n",
              "      <th>tf_idf_fit</th>\n",
              "    </tr>\n",
              "    <tr>\n",
              "      <th>id</th>\n",
              "      <th></th>\n",
              "      <th></th>\n",
              "      <th></th>\n",
              "      <th></th>\n",
              "      <th></th>\n",
              "      <th></th>\n",
              "    </tr>\n",
              "  </thead>\n",
              "  <tbody>\n",
              "    <tr>\n",
              "      <th>97</th>\n",
              "      <td>Aspiring Human Resources Professional</td>\n",
              "      <td>Kokomo, Indiana Area</td>\n",
              "      <td>71</td>\n",
              "      <td>aspire human resources professional</td>\n",
              "      <td>0.765002</td>\n",
              "      <td>0.765002</td>\n",
              "    </tr>\n",
              "    <tr>\n",
              "      <th>3</th>\n",
              "      <td>Aspiring Human Resources Professional</td>\n",
              "      <td>Raleigh-Durham, North Carolina Area</td>\n",
              "      <td>44</td>\n",
              "      <td>aspire human resources professional</td>\n",
              "      <td>0.765002</td>\n",
              "      <td>0.765002</td>\n",
              "    </tr>\n",
              "    <tr>\n",
              "      <th>6</th>\n",
              "      <td>Aspiring Human Resources Specialist</td>\n",
              "      <td>Greater New York City Area</td>\n",
              "      <td>1</td>\n",
              "      <td>aspire human resources specialist</td>\n",
              "      <td>0.673329</td>\n",
              "      <td>0.673329</td>\n",
              "    </tr>\n",
              "    <tr>\n",
              "      <th>73</th>\n",
              "      <td>Aspiring Human Resources Manager, seeking inte...</td>\n",
              "      <td>Houston, Texas Area</td>\n",
              "      <td>7</td>\n",
              "      <td>aspire human resources manager seek internship...</td>\n",
              "      <td>0.606927</td>\n",
              "      <td>0.606927</td>\n",
              "    </tr>\n",
              "    <tr>\n",
              "      <th>27</th>\n",
              "      <td>Aspiring Human Resources Management student se...</td>\n",
              "      <td>Houston, Texas Area</td>\n",
              "      <td>501</td>\n",
              "      <td>aspire human resources management student seek...</td>\n",
              "      <td>0.431808</td>\n",
              "      <td>0.431808</td>\n",
              "    </tr>\n",
              "  </tbody>\n",
              "</table>\n",
              "</div>\n",
              "      <button class=\"colab-df-convert\" onclick=\"convertToInteractive('df-b264431b-590d-49d6-a46f-5d6d09f60555')\"\n",
              "              title=\"Convert this dataframe to an interactive table.\"\n",
              "              style=\"display:none;\">\n",
              "        \n",
              "  <svg xmlns=\"http://www.w3.org/2000/svg\" height=\"24px\"viewBox=\"0 0 24 24\"\n",
              "       width=\"24px\">\n",
              "    <path d=\"M0 0h24v24H0V0z\" fill=\"none\"/>\n",
              "    <path d=\"M18.56 5.44l.94 2.06.94-2.06 2.06-.94-2.06-.94-.94-2.06-.94 2.06-2.06.94zm-11 1L8.5 8.5l.94-2.06 2.06-.94-2.06-.94L8.5 2.5l-.94 2.06-2.06.94zm10 10l.94 2.06.94-2.06 2.06-.94-2.06-.94-.94-2.06-.94 2.06-2.06.94z\"/><path d=\"M17.41 7.96l-1.37-1.37c-.4-.4-.92-.59-1.43-.59-.52 0-1.04.2-1.43.59L10.3 9.45l-7.72 7.72c-.78.78-.78 2.05 0 2.83L4 21.41c.39.39.9.59 1.41.59.51 0 1.02-.2 1.41-.59l7.78-7.78 2.81-2.81c.8-.78.8-2.07 0-2.86zM5.41 20L4 18.59l7.72-7.72 1.47 1.35L5.41 20z\"/>\n",
              "  </svg>\n",
              "      </button>\n",
              "      \n",
              "  <style>\n",
              "    .colab-df-container {\n",
              "      display:flex;\n",
              "      flex-wrap:wrap;\n",
              "      gap: 12px;\n",
              "    }\n",
              "\n",
              "    .colab-df-convert {\n",
              "      background-color: #E8F0FE;\n",
              "      border: none;\n",
              "      border-radius: 50%;\n",
              "      cursor: pointer;\n",
              "      display: none;\n",
              "      fill: #1967D2;\n",
              "      height: 32px;\n",
              "      padding: 0 0 0 0;\n",
              "      width: 32px;\n",
              "    }\n",
              "\n",
              "    .colab-df-convert:hover {\n",
              "      background-color: #E2EBFA;\n",
              "      box-shadow: 0px 1px 2px rgba(60, 64, 67, 0.3), 0px 1px 3px 1px rgba(60, 64, 67, 0.15);\n",
              "      fill: #174EA6;\n",
              "    }\n",
              "\n",
              "    [theme=dark] .colab-df-convert {\n",
              "      background-color: #3B4455;\n",
              "      fill: #D2E3FC;\n",
              "    }\n",
              "\n",
              "    [theme=dark] .colab-df-convert:hover {\n",
              "      background-color: #434B5C;\n",
              "      box-shadow: 0px 1px 3px 1px rgba(0, 0, 0, 0.15);\n",
              "      filter: drop-shadow(0px 1px 2px rgba(0, 0, 0, 0.3));\n",
              "      fill: #FFFFFF;\n",
              "    }\n",
              "  </style>\n",
              "\n",
              "      <script>\n",
              "        const buttonEl =\n",
              "          document.querySelector('#df-b264431b-590d-49d6-a46f-5d6d09f60555 button.colab-df-convert');\n",
              "        buttonEl.style.display =\n",
              "          google.colab.kernel.accessAllowed ? 'block' : 'none';\n",
              "\n",
              "        async function convertToInteractive(key) {\n",
              "          const element = document.querySelector('#df-b264431b-590d-49d6-a46f-5d6d09f60555');\n",
              "          const dataTable =\n",
              "            await google.colab.kernel.invokeFunction('convertToInteractive',\n",
              "                                                     [key], {});\n",
              "          if (!dataTable) return;\n",
              "\n",
              "          const docLinkHtml = 'Like what you see? Visit the ' +\n",
              "            '<a target=\"_blank\" href=https://colab.research.google.com/notebooks/data_table.ipynb>data table notebook</a>'\n",
              "            + ' to learn more about interactive tables.';\n",
              "          element.innerHTML = '';\n",
              "          dataTable['output_type'] = 'display_data';\n",
              "          await google.colab.output.renderOutput(dataTable, element);\n",
              "          const docLink = document.createElement('div');\n",
              "          docLink.innerHTML = docLinkHtml;\n",
              "          element.appendChild(docLink);\n",
              "        }\n",
              "      </script>\n",
              "    </div>\n",
              "  </div>\n",
              "  "
            ]
          },
          "metadata": {},
          "execution_count": 89
        }
      ]
    },
    {
      "cell_type": "code",
      "source": [
        "similar_df.sort_values(by ='tf_idf_fit', ascending = False).head(10)"
      ],
      "metadata": {
        "colab": {
          "base_uri": "https://localhost:8080/",
          "height": 394
        },
        "id": "WZ9vL_eV8Q3P",
        "outputId": "9bc5a645-bb41-433a-bfd9-0e157e32945a"
      },
      "execution_count": 91,
      "outputs": [
        {
          "output_type": "execute_result",
          "data": {
            "text/plain": [
              "                                             job_title  \\\n",
              "id                                                       \n",
              "97               Aspiring Human Resources Professional   \n",
              "3                Aspiring Human Resources Professional   \n",
              "6                  Aspiring Human Resources Specialist   \n",
              "73   Aspiring Human Resources Manager, seeking inte...   \n",
              "27   Aspiring Human Resources Management student se...   \n",
              "72   Business Management Major and Aspiring Human R...   \n",
              "66   Experienced Retail Manager and aspiring Human ...   \n",
              "74                        Human Resources Professional   \n",
              "7    Student at Humber College and Aspiring Human R...   \n",
              "100  Aspiring Human Resources Manager | Graduating ...   \n",
              "\n",
              "                                location connection  \\\n",
              "id                                                    \n",
              "97                  Kokomo, Indiana Area         71   \n",
              "3    Raleigh-Durham, North Carolina Area         44   \n",
              "6             Greater New York City Area          1   \n",
              "73                   Houston, Texas Area          7   \n",
              "27                   Houston, Texas Area        501   \n",
              "72                Monroe, Louisiana Area          5   \n",
              "66                    Austin, Texas Area         57   \n",
              "74                   Greater Boston Area         16   \n",
              "7                                 Kanada         61   \n",
              "100             Cape Girardeau, Missouri        103   \n",
              "\n",
              "                                     job_title_cleaned       fit  tf_idf_fit  \n",
              "id                                                                            \n",
              "97                 aspire human resources professional  0.765002    0.765002  \n",
              "3                  aspire human resources professional  0.765002    0.765002  \n",
              "6                    aspire human resources specialist  0.673329    0.673329  \n",
              "73   aspire human resources manager seek internship...  0.606927    0.606927  \n",
              "27   aspire human resources management student seek...  0.431808    0.431808  \n",
              "72   business management major aspire human resourc...  0.429455    0.429455  \n",
              "66   experience retail manager aspire human resourc...  0.403297    0.403297  \n",
              "74                        human resources professional  0.393063    0.393063  \n",
              "7    student humber college aspire human resources ...  0.389175    0.389175  \n",
              "100  aspire human resources manager graduate may  s...  0.349942    0.349942  "
            ],
            "text/html": [
              "\n",
              "  <div id=\"df-75fe2b27-a51f-4c73-8752-a57b2088b90d\">\n",
              "    <div class=\"colab-df-container\">\n",
              "      <div>\n",
              "<style scoped>\n",
              "    .dataframe tbody tr th:only-of-type {\n",
              "        vertical-align: middle;\n",
              "    }\n",
              "\n",
              "    .dataframe tbody tr th {\n",
              "        vertical-align: top;\n",
              "    }\n",
              "\n",
              "    .dataframe thead th {\n",
              "        text-align: right;\n",
              "    }\n",
              "</style>\n",
              "<table border=\"1\" class=\"dataframe\">\n",
              "  <thead>\n",
              "    <tr style=\"text-align: right;\">\n",
              "      <th></th>\n",
              "      <th>job_title</th>\n",
              "      <th>location</th>\n",
              "      <th>connection</th>\n",
              "      <th>job_title_cleaned</th>\n",
              "      <th>fit</th>\n",
              "      <th>tf_idf_fit</th>\n",
              "    </tr>\n",
              "    <tr>\n",
              "      <th>id</th>\n",
              "      <th></th>\n",
              "      <th></th>\n",
              "      <th></th>\n",
              "      <th></th>\n",
              "      <th></th>\n",
              "      <th></th>\n",
              "    </tr>\n",
              "  </thead>\n",
              "  <tbody>\n",
              "    <tr>\n",
              "      <th>97</th>\n",
              "      <td>Aspiring Human Resources Professional</td>\n",
              "      <td>Kokomo, Indiana Area</td>\n",
              "      <td>71</td>\n",
              "      <td>aspire human resources professional</td>\n",
              "      <td>0.765002</td>\n",
              "      <td>0.765002</td>\n",
              "    </tr>\n",
              "    <tr>\n",
              "      <th>3</th>\n",
              "      <td>Aspiring Human Resources Professional</td>\n",
              "      <td>Raleigh-Durham, North Carolina Area</td>\n",
              "      <td>44</td>\n",
              "      <td>aspire human resources professional</td>\n",
              "      <td>0.765002</td>\n",
              "      <td>0.765002</td>\n",
              "    </tr>\n",
              "    <tr>\n",
              "      <th>6</th>\n",
              "      <td>Aspiring Human Resources Specialist</td>\n",
              "      <td>Greater New York City Area</td>\n",
              "      <td>1</td>\n",
              "      <td>aspire human resources specialist</td>\n",
              "      <td>0.673329</td>\n",
              "      <td>0.673329</td>\n",
              "    </tr>\n",
              "    <tr>\n",
              "      <th>73</th>\n",
              "      <td>Aspiring Human Resources Manager, seeking inte...</td>\n",
              "      <td>Houston, Texas Area</td>\n",
              "      <td>7</td>\n",
              "      <td>aspire human resources manager seek internship...</td>\n",
              "      <td>0.606927</td>\n",
              "      <td>0.606927</td>\n",
              "    </tr>\n",
              "    <tr>\n",
              "      <th>27</th>\n",
              "      <td>Aspiring Human Resources Management student se...</td>\n",
              "      <td>Houston, Texas Area</td>\n",
              "      <td>501</td>\n",
              "      <td>aspire human resources management student seek...</td>\n",
              "      <td>0.431808</td>\n",
              "      <td>0.431808</td>\n",
              "    </tr>\n",
              "    <tr>\n",
              "      <th>72</th>\n",
              "      <td>Business Management Major and Aspiring Human R...</td>\n",
              "      <td>Monroe, Louisiana Area</td>\n",
              "      <td>5</td>\n",
              "      <td>business management major aspire human resourc...</td>\n",
              "      <td>0.429455</td>\n",
              "      <td>0.429455</td>\n",
              "    </tr>\n",
              "    <tr>\n",
              "      <th>66</th>\n",
              "      <td>Experienced Retail Manager and aspiring Human ...</td>\n",
              "      <td>Austin, Texas Area</td>\n",
              "      <td>57</td>\n",
              "      <td>experience retail manager aspire human resourc...</td>\n",
              "      <td>0.403297</td>\n",
              "      <td>0.403297</td>\n",
              "    </tr>\n",
              "    <tr>\n",
              "      <th>74</th>\n",
              "      <td>Human Resources Professional</td>\n",
              "      <td>Greater Boston Area</td>\n",
              "      <td>16</td>\n",
              "      <td>human resources professional</td>\n",
              "      <td>0.393063</td>\n",
              "      <td>0.393063</td>\n",
              "    </tr>\n",
              "    <tr>\n",
              "      <th>7</th>\n",
              "      <td>Student at Humber College and Aspiring Human R...</td>\n",
              "      <td>Kanada</td>\n",
              "      <td>61</td>\n",
              "      <td>student humber college aspire human resources ...</td>\n",
              "      <td>0.389175</td>\n",
              "      <td>0.389175</td>\n",
              "    </tr>\n",
              "    <tr>\n",
              "      <th>100</th>\n",
              "      <td>Aspiring Human Resources Manager | Graduating ...</td>\n",
              "      <td>Cape Girardeau, Missouri</td>\n",
              "      <td>103</td>\n",
              "      <td>aspire human resources manager graduate may  s...</td>\n",
              "      <td>0.349942</td>\n",
              "      <td>0.349942</td>\n",
              "    </tr>\n",
              "  </tbody>\n",
              "</table>\n",
              "</div>\n",
              "      <button class=\"colab-df-convert\" onclick=\"convertToInteractive('df-75fe2b27-a51f-4c73-8752-a57b2088b90d')\"\n",
              "              title=\"Convert this dataframe to an interactive table.\"\n",
              "              style=\"display:none;\">\n",
              "        \n",
              "  <svg xmlns=\"http://www.w3.org/2000/svg\" height=\"24px\"viewBox=\"0 0 24 24\"\n",
              "       width=\"24px\">\n",
              "    <path d=\"M0 0h24v24H0V0z\" fill=\"none\"/>\n",
              "    <path d=\"M18.56 5.44l.94 2.06.94-2.06 2.06-.94-2.06-.94-.94-2.06-.94 2.06-2.06.94zm-11 1L8.5 8.5l.94-2.06 2.06-.94-2.06-.94L8.5 2.5l-.94 2.06-2.06.94zm10 10l.94 2.06.94-2.06 2.06-.94-2.06-.94-.94-2.06-.94 2.06-2.06.94z\"/><path d=\"M17.41 7.96l-1.37-1.37c-.4-.4-.92-.59-1.43-.59-.52 0-1.04.2-1.43.59L10.3 9.45l-7.72 7.72c-.78.78-.78 2.05 0 2.83L4 21.41c.39.39.9.59 1.41.59.51 0 1.02-.2 1.41-.59l7.78-7.78 2.81-2.81c.8-.78.8-2.07 0-2.86zM5.41 20L4 18.59l7.72-7.72 1.47 1.35L5.41 20z\"/>\n",
              "  </svg>\n",
              "      </button>\n",
              "      \n",
              "  <style>\n",
              "    .colab-df-container {\n",
              "      display:flex;\n",
              "      flex-wrap:wrap;\n",
              "      gap: 12px;\n",
              "    }\n",
              "\n",
              "    .colab-df-convert {\n",
              "      background-color: #E8F0FE;\n",
              "      border: none;\n",
              "      border-radius: 50%;\n",
              "      cursor: pointer;\n",
              "      display: none;\n",
              "      fill: #1967D2;\n",
              "      height: 32px;\n",
              "      padding: 0 0 0 0;\n",
              "      width: 32px;\n",
              "    }\n",
              "\n",
              "    .colab-df-convert:hover {\n",
              "      background-color: #E2EBFA;\n",
              "      box-shadow: 0px 1px 2px rgba(60, 64, 67, 0.3), 0px 1px 3px 1px rgba(60, 64, 67, 0.15);\n",
              "      fill: #174EA6;\n",
              "    }\n",
              "\n",
              "    [theme=dark] .colab-df-convert {\n",
              "      background-color: #3B4455;\n",
              "      fill: #D2E3FC;\n",
              "    }\n",
              "\n",
              "    [theme=dark] .colab-df-convert:hover {\n",
              "      background-color: #434B5C;\n",
              "      box-shadow: 0px 1px 3px 1px rgba(0, 0, 0, 0.15);\n",
              "      filter: drop-shadow(0px 1px 2px rgba(0, 0, 0, 0.3));\n",
              "      fill: #FFFFFF;\n",
              "    }\n",
              "  </style>\n",
              "\n",
              "      <script>\n",
              "        const buttonEl =\n",
              "          document.querySelector('#df-75fe2b27-a51f-4c73-8752-a57b2088b90d button.colab-df-convert');\n",
              "        buttonEl.style.display =\n",
              "          google.colab.kernel.accessAllowed ? 'block' : 'none';\n",
              "\n",
              "        async function convertToInteractive(key) {\n",
              "          const element = document.querySelector('#df-75fe2b27-a51f-4c73-8752-a57b2088b90d');\n",
              "          const dataTable =\n",
              "            await google.colab.kernel.invokeFunction('convertToInteractive',\n",
              "                                                     [key], {});\n",
              "          if (!dataTable) return;\n",
              "\n",
              "          const docLinkHtml = 'Like what you see? Visit the ' +\n",
              "            '<a target=\"_blank\" href=https://colab.research.google.com/notebooks/data_table.ipynb>data table notebook</a>'\n",
              "            + ' to learn more about interactive tables.';\n",
              "          element.innerHTML = '';\n",
              "          dataTable['output_type'] = 'display_data';\n",
              "          await google.colab.output.renderOutput(dataTable, element);\n",
              "          const docLink = document.createElement('div');\n",
              "          docLink.innerHTML = docLinkHtml;\n",
              "          element.appendChild(docLink);\n",
              "        }\n",
              "      </script>\n",
              "    </div>\n",
              "  </div>\n",
              "  "
            ]
          },
          "metadata": {},
          "execution_count": 91
        }
      ]
    },
    {
      "cell_type": "code",
      "source": [
        "similar_df.sort_values(by ='tf_idf_fit', ascending = True).head()"
      ],
      "metadata": {
        "id": "Rpj9NTM861v7",
        "colab": {
          "base_uri": "https://localhost:8080/",
          "height": 238
        },
        "outputId": "648cb804-8fc5-4d88-de44-163db4c1973e"
      },
      "execution_count": 90,
      "outputs": [
        {
          "output_type": "execute_result",
          "data": {
            "text/plain": [
              "                                             job_title  \\\n",
              "id                                                       \n",
              "104   Director Of Administration at Excellence Logging   \n",
              "90   Undergraduate Research Assistant at Styczynski...   \n",
              "103                     Always set them up for Success   \n",
              "86   Information Systems Specialist and Programmer ...   \n",
              "92   Seeking employment opportunities within Custom...   \n",
              "\n",
              "                     location connection  \\\n",
              "id                                         \n",
              "104               Katy, Texas        501   \n",
              "90       Greater Atlanta Area        155   \n",
              "103  Greater Los Angeles Area        501   \n",
              "86     Gaithersburg, Maryland          4   \n",
              "92       Torrance, California         64   \n",
              "\n",
              "                                     job_title_cleaned  fit  tf_idf_fit  \n",
              "id                                                                       \n",
              "104             director administration excellence log  0.0         0.0  \n",
              "90     undergraduate research assistant styczynski lab  0.0         0.0  \n",
              "103                                 always set success  0.0         0.0  \n",
              "86   information systems specialist programmer love...  0.0         0.0  \n",
              "92   seek employment opportunities within customer ...  0.0         0.0  "
            ],
            "text/html": [
              "\n",
              "  <div id=\"df-a6fee1d0-2eac-4ee8-8d9d-8df54320540e\">\n",
              "    <div class=\"colab-df-container\">\n",
              "      <div>\n",
              "<style scoped>\n",
              "    .dataframe tbody tr th:only-of-type {\n",
              "        vertical-align: middle;\n",
              "    }\n",
              "\n",
              "    .dataframe tbody tr th {\n",
              "        vertical-align: top;\n",
              "    }\n",
              "\n",
              "    .dataframe thead th {\n",
              "        text-align: right;\n",
              "    }\n",
              "</style>\n",
              "<table border=\"1\" class=\"dataframe\">\n",
              "  <thead>\n",
              "    <tr style=\"text-align: right;\">\n",
              "      <th></th>\n",
              "      <th>job_title</th>\n",
              "      <th>location</th>\n",
              "      <th>connection</th>\n",
              "      <th>job_title_cleaned</th>\n",
              "      <th>fit</th>\n",
              "      <th>tf_idf_fit</th>\n",
              "    </tr>\n",
              "    <tr>\n",
              "      <th>id</th>\n",
              "      <th></th>\n",
              "      <th></th>\n",
              "      <th></th>\n",
              "      <th></th>\n",
              "      <th></th>\n",
              "      <th></th>\n",
              "    </tr>\n",
              "  </thead>\n",
              "  <tbody>\n",
              "    <tr>\n",
              "      <th>104</th>\n",
              "      <td>Director Of Administration at Excellence Logging</td>\n",
              "      <td>Katy, Texas</td>\n",
              "      <td>501</td>\n",
              "      <td>director administration excellence log</td>\n",
              "      <td>0.0</td>\n",
              "      <td>0.0</td>\n",
              "    </tr>\n",
              "    <tr>\n",
              "      <th>90</th>\n",
              "      <td>Undergraduate Research Assistant at Styczynski...</td>\n",
              "      <td>Greater Atlanta Area</td>\n",
              "      <td>155</td>\n",
              "      <td>undergraduate research assistant styczynski lab</td>\n",
              "      <td>0.0</td>\n",
              "      <td>0.0</td>\n",
              "    </tr>\n",
              "    <tr>\n",
              "      <th>103</th>\n",
              "      <td>Always set them up for Success</td>\n",
              "      <td>Greater Los Angeles Area</td>\n",
              "      <td>501</td>\n",
              "      <td>always set success</td>\n",
              "      <td>0.0</td>\n",
              "      <td>0.0</td>\n",
              "    </tr>\n",
              "    <tr>\n",
              "      <th>86</th>\n",
              "      <td>Information Systems Specialist and Programmer ...</td>\n",
              "      <td>Gaithersburg, Maryland</td>\n",
              "      <td>4</td>\n",
              "      <td>information systems specialist programmer love...</td>\n",
              "      <td>0.0</td>\n",
              "      <td>0.0</td>\n",
              "    </tr>\n",
              "    <tr>\n",
              "      <th>92</th>\n",
              "      <td>Seeking employment opportunities within Custom...</td>\n",
              "      <td>Torrance, California</td>\n",
              "      <td>64</td>\n",
              "      <td>seek employment opportunities within customer ...</td>\n",
              "      <td>0.0</td>\n",
              "      <td>0.0</td>\n",
              "    </tr>\n",
              "  </tbody>\n",
              "</table>\n",
              "</div>\n",
              "      <button class=\"colab-df-convert\" onclick=\"convertToInteractive('df-a6fee1d0-2eac-4ee8-8d9d-8df54320540e')\"\n",
              "              title=\"Convert this dataframe to an interactive table.\"\n",
              "              style=\"display:none;\">\n",
              "        \n",
              "  <svg xmlns=\"http://www.w3.org/2000/svg\" height=\"24px\"viewBox=\"0 0 24 24\"\n",
              "       width=\"24px\">\n",
              "    <path d=\"M0 0h24v24H0V0z\" fill=\"none\"/>\n",
              "    <path d=\"M18.56 5.44l.94 2.06.94-2.06 2.06-.94-2.06-.94-.94-2.06-.94 2.06-2.06.94zm-11 1L8.5 8.5l.94-2.06 2.06-.94-2.06-.94L8.5 2.5l-.94 2.06-2.06.94zm10 10l.94 2.06.94-2.06 2.06-.94-2.06-.94-.94-2.06-.94 2.06-2.06.94z\"/><path d=\"M17.41 7.96l-1.37-1.37c-.4-.4-.92-.59-1.43-.59-.52 0-1.04.2-1.43.59L10.3 9.45l-7.72 7.72c-.78.78-.78 2.05 0 2.83L4 21.41c.39.39.9.59 1.41.59.51 0 1.02-.2 1.41-.59l7.78-7.78 2.81-2.81c.8-.78.8-2.07 0-2.86zM5.41 20L4 18.59l7.72-7.72 1.47 1.35L5.41 20z\"/>\n",
              "  </svg>\n",
              "      </button>\n",
              "      \n",
              "  <style>\n",
              "    .colab-df-container {\n",
              "      display:flex;\n",
              "      flex-wrap:wrap;\n",
              "      gap: 12px;\n",
              "    }\n",
              "\n",
              "    .colab-df-convert {\n",
              "      background-color: #E8F0FE;\n",
              "      border: none;\n",
              "      border-radius: 50%;\n",
              "      cursor: pointer;\n",
              "      display: none;\n",
              "      fill: #1967D2;\n",
              "      height: 32px;\n",
              "      padding: 0 0 0 0;\n",
              "      width: 32px;\n",
              "    }\n",
              "\n",
              "    .colab-df-convert:hover {\n",
              "      background-color: #E2EBFA;\n",
              "      box-shadow: 0px 1px 2px rgba(60, 64, 67, 0.3), 0px 1px 3px 1px rgba(60, 64, 67, 0.15);\n",
              "      fill: #174EA6;\n",
              "    }\n",
              "\n",
              "    [theme=dark] .colab-df-convert {\n",
              "      background-color: #3B4455;\n",
              "      fill: #D2E3FC;\n",
              "    }\n",
              "\n",
              "    [theme=dark] .colab-df-convert:hover {\n",
              "      background-color: #434B5C;\n",
              "      box-shadow: 0px 1px 3px 1px rgba(0, 0, 0, 0.15);\n",
              "      filter: drop-shadow(0px 1px 2px rgba(0, 0, 0, 0.3));\n",
              "      fill: #FFFFFF;\n",
              "    }\n",
              "  </style>\n",
              "\n",
              "      <script>\n",
              "        const buttonEl =\n",
              "          document.querySelector('#df-a6fee1d0-2eac-4ee8-8d9d-8df54320540e button.colab-df-convert');\n",
              "        buttonEl.style.display =\n",
              "          google.colab.kernel.accessAllowed ? 'block' : 'none';\n",
              "\n",
              "        async function convertToInteractive(key) {\n",
              "          const element = document.querySelector('#df-a6fee1d0-2eac-4ee8-8d9d-8df54320540e');\n",
              "          const dataTable =\n",
              "            await google.colab.kernel.invokeFunction('convertToInteractive',\n",
              "                                                     [key], {});\n",
              "          if (!dataTable) return;\n",
              "\n",
              "          const docLinkHtml = 'Like what you see? Visit the ' +\n",
              "            '<a target=\"_blank\" href=https://colab.research.google.com/notebooks/data_table.ipynb>data table notebook</a>'\n",
              "            + ' to learn more about interactive tables.';\n",
              "          element.innerHTML = '';\n",
              "          dataTable['output_type'] = 'display_data';\n",
              "          await google.colab.output.renderOutput(dataTable, element);\n",
              "          const docLink = document.createElement('div');\n",
              "          docLink.innerHTML = docLinkHtml;\n",
              "          element.appendChild(docLink);\n",
              "        }\n",
              "      </script>\n",
              "    </div>\n",
              "  </div>\n",
              "  "
            ]
          },
          "metadata": {},
          "execution_count": 90
        }
      ]
    },
    {
      "cell_type": "code",
      "source": [],
      "metadata": {
        "id": "-lePxmnF8TXn"
      },
      "execution_count": 44,
      "outputs": []
    },
    {
      "cell_type": "markdown",
      "source": [
        "# Starring Candidates"
      ],
      "metadata": {
        "id": "aeXET1P64WxH"
      }
    },
    {
      "cell_type": "markdown",
      "source": [
        "Approach: When we star a candidate, we feel that the candidate's job title/summary fits the best to the particular role in mind. Therefore, we use that candidate's job title as the new keyword to search for."
      ],
      "metadata": {
        "id": "MqSE2ckz-Onx"
      }
    },
    {
      "cell_type": "code",
      "source": [
        "df.loc[74].job_title_cleaned"
      ],
      "metadata": {
        "colab": {
          "base_uri": "https://localhost:8080/",
          "height": 35
        },
        "id": "ZuSjNW8X8uhv",
        "outputId": "339d30a0-f6b0-4ea5-fbba-8c6131eeb81d"
      },
      "execution_count": 101,
      "outputs": [
        {
          "output_type": "execute_result",
          "data": {
            "text/plain": [
              "'human resources professional'"
            ],
            "application/vnd.google.colaboratory.intrinsic+json": {
              "type": "string"
            }
          },
          "metadata": {},
          "execution_count": 101
        }
      ]
    },
    {
      "cell_type": "code",
      "source": [
        "def star_candidate(star_id, df):\n",
        "  starred_jobdesc = df.loc[star_id].job_title\n",
        "  return starred_jobdesc\n",
        "\n"
      ],
      "metadata": {
        "id": "wQVHIQ3b4X8C"
      },
      "execution_count": 102,
      "outputs": []
    },
    {
      "cell_type": "code",
      "source": [
        "new_keyword = star_candidate(74, similar_df)"
      ],
      "metadata": {
        "id": "Pqt0ynVa9Pwk"
      },
      "execution_count": 103,
      "outputs": []
    },
    {
      "cell_type": "code",
      "source": [
        "new_keyword = [new_keyword]"
      ],
      "metadata": {
        "id": "vnjff1pj9_QJ"
      },
      "execution_count": 105,
      "outputs": []
    },
    {
      "cell_type": "code",
      "source": [
        "reranked_df = similarity(tfidf_vectorizer, new_keyword, tfidf_vector, df, 'reranked_tf_idf')"
      ],
      "metadata": {
        "colab": {
          "base_uri": "https://localhost:8080/"
        },
        "id": "6H6Gv-vr9THj",
        "outputId": "a2247b48-39e7-41a8-ab50-59249bd2d081"
      },
      "execution_count": 106,
      "outputs": [
        {
          "output_type": "stream",
          "name": "stdout",
          "text": [
            "Shape of keywords vector: (1, 182)\n"
          ]
        }
      ]
    },
    {
      "cell_type": "code",
      "source": [
        "reranked_df.sort_values(by='reranked_tf_idf', ascending=False).head()"
      ],
      "metadata": {
        "colab": {
          "base_uri": "https://localhost:8080/",
          "height": 334
        },
        "id": "BCFcZok991-7",
        "outputId": "a42891c0-421e-4c19-abac-8b1ff737a4bc"
      },
      "execution_count": 109,
      "outputs": [
        {
          "output_type": "execute_result",
          "data": {
            "text/plain": [
              "                                            job_title  \\\n",
              "id                                                      \n",
              "74                       Human Resources Professional   \n",
              "3               Aspiring Human Resources Professional   \n",
              "97              Aspiring Human Resources Professional   \n",
              "67  Human Resources, Staffing and Recruiting Profe...   \n",
              "66  Experienced Retail Manager and aspiring Human ...   \n",
              "\n",
              "                               location connection  \\\n",
              "id                                                   \n",
              "74                  Greater Boston Area         16   \n",
              "3   Raleigh-Durham, North Carolina Area         44   \n",
              "97                 Kokomo, Indiana Area         71   \n",
              "67            Jackson, Mississippi Area        501   \n",
              "66                   Austin, Texas Area         57   \n",
              "\n",
              "                                    job_title_cleaned       fit  tf_idf_fit  \\\n",
              "id                                                                            \n",
              "74                       human resources professional  0.393063    0.393063   \n",
              "3                 aspire human resources professional  0.765002    0.765002   \n",
              "97                aspire human resources professional  0.765002    0.765002   \n",
              "67         human resources staff recruit professional  0.192955    0.192955   \n",
              "66  experience retail manager aspire human resourc...  0.403297    0.403297   \n",
              "\n",
              "    reranked_tf_idf  \n",
              "id                   \n",
              "74         1.000000  \n",
              "3          0.811692  \n",
              "97         0.811692  \n",
              "67         0.490901  \n",
              "66         0.427911  "
            ],
            "text/html": [
              "\n",
              "  <div id=\"df-4729406e-d9cb-44e9-8b2f-59656773ef37\">\n",
              "    <div class=\"colab-df-container\">\n",
              "      <div>\n",
              "<style scoped>\n",
              "    .dataframe tbody tr th:only-of-type {\n",
              "        vertical-align: middle;\n",
              "    }\n",
              "\n",
              "    .dataframe tbody tr th {\n",
              "        vertical-align: top;\n",
              "    }\n",
              "\n",
              "    .dataframe thead th {\n",
              "        text-align: right;\n",
              "    }\n",
              "</style>\n",
              "<table border=\"1\" class=\"dataframe\">\n",
              "  <thead>\n",
              "    <tr style=\"text-align: right;\">\n",
              "      <th></th>\n",
              "      <th>job_title</th>\n",
              "      <th>location</th>\n",
              "      <th>connection</th>\n",
              "      <th>job_title_cleaned</th>\n",
              "      <th>fit</th>\n",
              "      <th>tf_idf_fit</th>\n",
              "      <th>reranked_tf_idf</th>\n",
              "    </tr>\n",
              "    <tr>\n",
              "      <th>id</th>\n",
              "      <th></th>\n",
              "      <th></th>\n",
              "      <th></th>\n",
              "      <th></th>\n",
              "      <th></th>\n",
              "      <th></th>\n",
              "      <th></th>\n",
              "    </tr>\n",
              "  </thead>\n",
              "  <tbody>\n",
              "    <tr>\n",
              "      <th>74</th>\n",
              "      <td>Human Resources Professional</td>\n",
              "      <td>Greater Boston Area</td>\n",
              "      <td>16</td>\n",
              "      <td>human resources professional</td>\n",
              "      <td>0.393063</td>\n",
              "      <td>0.393063</td>\n",
              "      <td>1.000000</td>\n",
              "    </tr>\n",
              "    <tr>\n",
              "      <th>3</th>\n",
              "      <td>Aspiring Human Resources Professional</td>\n",
              "      <td>Raleigh-Durham, North Carolina Area</td>\n",
              "      <td>44</td>\n",
              "      <td>aspire human resources professional</td>\n",
              "      <td>0.765002</td>\n",
              "      <td>0.765002</td>\n",
              "      <td>0.811692</td>\n",
              "    </tr>\n",
              "    <tr>\n",
              "      <th>97</th>\n",
              "      <td>Aspiring Human Resources Professional</td>\n",
              "      <td>Kokomo, Indiana Area</td>\n",
              "      <td>71</td>\n",
              "      <td>aspire human resources professional</td>\n",
              "      <td>0.765002</td>\n",
              "      <td>0.765002</td>\n",
              "      <td>0.811692</td>\n",
              "    </tr>\n",
              "    <tr>\n",
              "      <th>67</th>\n",
              "      <td>Human Resources, Staffing and Recruiting Profe...</td>\n",
              "      <td>Jackson, Mississippi Area</td>\n",
              "      <td>501</td>\n",
              "      <td>human resources staff recruit professional</td>\n",
              "      <td>0.192955</td>\n",
              "      <td>0.192955</td>\n",
              "      <td>0.490901</td>\n",
              "    </tr>\n",
              "    <tr>\n",
              "      <th>66</th>\n",
              "      <td>Experienced Retail Manager and aspiring Human ...</td>\n",
              "      <td>Austin, Texas Area</td>\n",
              "      <td>57</td>\n",
              "      <td>experience retail manager aspire human resourc...</td>\n",
              "      <td>0.403297</td>\n",
              "      <td>0.403297</td>\n",
              "      <td>0.427911</td>\n",
              "    </tr>\n",
              "  </tbody>\n",
              "</table>\n",
              "</div>\n",
              "      <button class=\"colab-df-convert\" onclick=\"convertToInteractive('df-4729406e-d9cb-44e9-8b2f-59656773ef37')\"\n",
              "              title=\"Convert this dataframe to an interactive table.\"\n",
              "              style=\"display:none;\">\n",
              "        \n",
              "  <svg xmlns=\"http://www.w3.org/2000/svg\" height=\"24px\"viewBox=\"0 0 24 24\"\n",
              "       width=\"24px\">\n",
              "    <path d=\"M0 0h24v24H0V0z\" fill=\"none\"/>\n",
              "    <path d=\"M18.56 5.44l.94 2.06.94-2.06 2.06-.94-2.06-.94-.94-2.06-.94 2.06-2.06.94zm-11 1L8.5 8.5l.94-2.06 2.06-.94-2.06-.94L8.5 2.5l-.94 2.06-2.06.94zm10 10l.94 2.06.94-2.06 2.06-.94-2.06-.94-.94-2.06-.94 2.06-2.06.94z\"/><path d=\"M17.41 7.96l-1.37-1.37c-.4-.4-.92-.59-1.43-.59-.52 0-1.04.2-1.43.59L10.3 9.45l-7.72 7.72c-.78.78-.78 2.05 0 2.83L4 21.41c.39.39.9.59 1.41.59.51 0 1.02-.2 1.41-.59l7.78-7.78 2.81-2.81c.8-.78.8-2.07 0-2.86zM5.41 20L4 18.59l7.72-7.72 1.47 1.35L5.41 20z\"/>\n",
              "  </svg>\n",
              "      </button>\n",
              "      \n",
              "  <style>\n",
              "    .colab-df-container {\n",
              "      display:flex;\n",
              "      flex-wrap:wrap;\n",
              "      gap: 12px;\n",
              "    }\n",
              "\n",
              "    .colab-df-convert {\n",
              "      background-color: #E8F0FE;\n",
              "      border: none;\n",
              "      border-radius: 50%;\n",
              "      cursor: pointer;\n",
              "      display: none;\n",
              "      fill: #1967D2;\n",
              "      height: 32px;\n",
              "      padding: 0 0 0 0;\n",
              "      width: 32px;\n",
              "    }\n",
              "\n",
              "    .colab-df-convert:hover {\n",
              "      background-color: #E2EBFA;\n",
              "      box-shadow: 0px 1px 2px rgba(60, 64, 67, 0.3), 0px 1px 3px 1px rgba(60, 64, 67, 0.15);\n",
              "      fill: #174EA6;\n",
              "    }\n",
              "\n",
              "    [theme=dark] .colab-df-convert {\n",
              "      background-color: #3B4455;\n",
              "      fill: #D2E3FC;\n",
              "    }\n",
              "\n",
              "    [theme=dark] .colab-df-convert:hover {\n",
              "      background-color: #434B5C;\n",
              "      box-shadow: 0px 1px 3px 1px rgba(0, 0, 0, 0.15);\n",
              "      filter: drop-shadow(0px 1px 2px rgba(0, 0, 0, 0.3));\n",
              "      fill: #FFFFFF;\n",
              "    }\n",
              "  </style>\n",
              "\n",
              "      <script>\n",
              "        const buttonEl =\n",
              "          document.querySelector('#df-4729406e-d9cb-44e9-8b2f-59656773ef37 button.colab-df-convert');\n",
              "        buttonEl.style.display =\n",
              "          google.colab.kernel.accessAllowed ? 'block' : 'none';\n",
              "\n",
              "        async function convertToInteractive(key) {\n",
              "          const element = document.querySelector('#df-4729406e-d9cb-44e9-8b2f-59656773ef37');\n",
              "          const dataTable =\n",
              "            await google.colab.kernel.invokeFunction('convertToInteractive',\n",
              "                                                     [key], {});\n",
              "          if (!dataTable) return;\n",
              "\n",
              "          const docLinkHtml = 'Like what you see? Visit the ' +\n",
              "            '<a target=\"_blank\" href=https://colab.research.google.com/notebooks/data_table.ipynb>data table notebook</a>'\n",
              "            + ' to learn more about interactive tables.';\n",
              "          element.innerHTML = '';\n",
              "          dataTable['output_type'] = 'display_data';\n",
              "          await google.colab.output.renderOutput(dataTable, element);\n",
              "          const docLink = document.createElement('div');\n",
              "          docLink.innerHTML = docLinkHtml;\n",
              "          element.appendChild(docLink);\n",
              "        }\n",
              "      </script>\n",
              "    </div>\n",
              "  </div>\n",
              "  "
            ]
          },
          "metadata": {},
          "execution_count": 109
        }
      ]
    },
    {
      "cell_type": "code",
      "source": [],
      "metadata": {
        "id": "OjytwMbM-C4k"
      },
      "execution_count": null,
      "outputs": []
    }
  ]
}